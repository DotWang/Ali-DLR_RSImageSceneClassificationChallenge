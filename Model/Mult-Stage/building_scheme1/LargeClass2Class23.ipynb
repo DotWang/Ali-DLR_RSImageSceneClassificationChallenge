{
 "cells": [
  {
   "cell_type": "code",
   "execution_count": 1,
   "metadata": {
    "collapsed": true
   },
   "outputs": [],
   "source": [
    "import numpy as np"
   ]
  },
  {
   "cell_type": "code",
   "execution_count": 2,
   "metadata": {
    "collapsed": false
   },
   "outputs": [
    {
     "data": {
      "text/plain": [
       "(376485,)"
      ]
     },
     "execution_count": 2,
     "metadata": {},
     "output_type": "execute_result"
    }
   ],
   "source": [
    "Labels = np.load(\"trn_val_y.npy\")\n",
    "Labels.shape"
   ]
  },
  {
   "cell_type": "code",
   "execution_count": 3,
   "metadata": {
    "collapsed": true
   },
   "outputs": [],
   "source": [
    "Plants =  np.where((Labels >=10)&(Labels<14))[0]\n",
    "Bare = np.where((Labels >=14)&(Labels<16))[0]"
   ]
  },
  {
   "cell_type": "code",
   "execution_count": 4,
   "metadata": {
    "collapsed": false
   },
   "outputs": [
    {
     "data": {
      "text/plain": [
       "array([     5,      7,      9, ..., 376479, 376480, 376481])"
      ]
     },
     "execution_count": 4,
     "metadata": {},
     "output_type": "execute_result"
    }
   ],
   "source": [
    "Plants"
   ]
  },
  {
   "cell_type": "code",
   "execution_count": 5,
   "metadata": {
    "collapsed": false
   },
   "outputs": [
    {
     "data": {
      "text/plain": [
       "array([    39,     50,     78, ..., 376441, 376474, 376475])"
      ]
     },
     "execution_count": 5,
     "metadata": {},
     "output_type": "execute_result"
    }
   ],
   "source": [
    "Bare"
   ]
  },
  {
   "cell_type": "code",
   "execution_count": 7,
   "metadata": {
    "collapsed": true
   },
   "outputs": [],
   "source": [
    "np.save(\"Plants_idx.npy\",Plants)\n",
    "np.save(\"Bare_idx.npy\",Bare)"
   ]
  },
  {
   "cell_type": "code",
   "execution_count": 8,
   "metadata": {
    "collapsed": true
   },
   "outputs": [],
   "source": [
    "from sklearn.model_selection import StratifiedKFold"
   ]
  },
  {
   "cell_type": "code",
   "execution_count": 9,
   "metadata": {
    "collapsed": true
   },
   "outputs": [],
   "source": [
    "skf_Plants = StratifiedKFold(n_splits=5,random_state=2020,shuffle=True)\n",
    "skf_Bare = StratifiedKFold(n_splits=5,random_state=2021,shuffle=True)"
   ]
  },
  {
   "cell_type": "code",
   "execution_count": 10,
   "metadata": {
    "collapsed": true
   },
   "outputs": [],
   "source": [
    "X_Plants = np.load(\"R2trn_s1_new.npy\")[Plants]\n",
    "y_Plants= Labels[Plants]\n",
    "X_Bare= np.load(\"R2trn_s1_new.npy\")[Bare]\n",
    "y_Bare = Labels[Bare]"
   ]
  },
  {
   "cell_type": "code",
   "execution_count": 19,
   "metadata": {
    "collapsed": true
   },
   "outputs": [],
   "source": [
    "Plants_folds_indexes=np.array(list(skf_Plants.split(X_Plants, y_Plants)))\n",
    "Bare_folds_indexes=np.array(list(skf_Bare.split(X_Bare, y_Bare)))"
   ]
  },
  {
   "cell_type": "code",
   "execution_count": 20,
   "metadata": {
    "collapsed": true
   },
   "outputs": [],
   "source": [
    "P1=[]\n",
    "P2 = []\n",
    "P3 = []\n",
    "P4 = []\n",
    "P5 = []\n",
    "P1.append(Plants[Plants_folds_indexes[0][0]])\n",
    "P1.append(Plants[Plants_folds_indexes[0][1]])\n",
    "P2.append(Plants[Plants_folds_indexes[1][0]])\n",
    "P2.append(Plants[Plants_folds_indexes[1][1]])\n",
    "P3.append(Plants[Plants_folds_indexes[2][0]])\n",
    "P3.append(Plants[Plants_folds_indexes[2][1]])\n",
    "P4.append(Plants[Plants_folds_indexes[3][0]])\n",
    "P4.append(Plants[Plants_folds_indexes[3][1]])\n",
    "P5.append(Plants[Plants_folds_indexes[4][0]])\n",
    "P5.append(Plants[Plants_folds_indexes[4][1]])"
   ]
  },
  {
   "cell_type": "code",
   "execution_count": 21,
   "metadata": {
    "collapsed": true
   },
   "outputs": [],
   "source": [
    "P =[]\n",
    "P.append(P1)\n",
    "P.append(P2)\n",
    "P.append(P3)\n",
    "P.append(P4)\n",
    "P.append(P5)"
   ]
  },
  {
   "cell_type": "code",
   "execution_count": 23,
   "metadata": {
    "collapsed": false
   },
   "outputs": [
    {
     "data": {
      "text/plain": [
       "array([[array([     5,      7,      9, ..., 376479, 376480, 376481]),\n",
       "        array([    15,     29,     31, ..., 376447, 376456, 376459])],\n",
       "       [array([     5,      7,      9, ..., 376467, 376471, 376480]),\n",
       "        array([   109,    112,    124, ..., 376478, 376479, 376481])],\n",
       "       [array([     5,      7,      9, ..., 376478, 376479, 376481]),\n",
       "        array([   117,    120,    122, ..., 376453, 376466, 376480])],\n",
       "       [array([    15,     29,     31, ..., 376479, 376480, 376481]),\n",
       "        array([     5,      7,      9, ..., 376454, 376463, 376471])],\n",
       "       [array([     5,      7,      9, ..., 376479, 376480, 376481]),\n",
       "        array([    54,     61,     75, ..., 376449, 376460, 376467])]],\n",
       "      dtype=object)"
      ]
     },
     "execution_count": 23,
     "metadata": {},
     "output_type": "execute_result"
    }
   ],
   "source": [
    "Plants_Kfold_idx=np.array(P)\n",
    "Plants_Kfold_idx"
   ]
  },
  {
   "cell_type": "code",
   "execution_count": 24,
   "metadata": {
    "collapsed": false
   },
   "outputs": [
    {
     "data": {
      "text/plain": [
       "array([[array([    39,    103,    260, ..., 376432, 376441, 376474]),\n",
       "        array([    50,     78,    447, ..., 376099, 376206, 376475])],\n",
       "       [array([    39,     50,     78, ..., 376441, 376474, 376475]),\n",
       "        array([   463,    524,    626, ..., 376242, 376282, 376367])],\n",
       "       [array([    39,     50,     78, ..., 376441, 376474, 376475]),\n",
       "        array([   260,    336,    370, ..., 375860, 376265, 376269])],\n",
       "       [array([    50,     78,    103, ..., 376367, 376432, 376475]),\n",
       "        array([    39,    516,    530, ..., 376244, 376441, 376474])],\n",
       "       [array([    39,     50,     78, ..., 376441, 376474, 376475]),\n",
       "        array([   103,    661,    927, ..., 375901, 375912, 376432])]],\n",
       "      dtype=object)"
      ]
     },
     "execution_count": 24,
     "metadata": {},
     "output_type": "execute_result"
    }
   ],
   "source": [
    "B1=[]\n",
    "B2 = []\n",
    "B3 = []\n",
    "B4 = []\n",
    "B5 = []\n",
    "B1.append(Bare[Bare_folds_indexes[0][0]])\n",
    "B1.append(Bare[Bare_folds_indexes[0][1]])\n",
    "B2.append(Bare[Bare_folds_indexes[1][0]])\n",
    "B2.append(Bare[Bare_folds_indexes[1][1]])\n",
    "B3.append(Bare[Bare_folds_indexes[2][0]])\n",
    "B3.append(Bare[Bare_folds_indexes[2][1]])\n",
    "B4.append(Bare[Bare_folds_indexes[3][0]])\n",
    "B4.append(Bare[Bare_folds_indexes[3][1]])\n",
    "B5.append(Bare[Bare_folds_indexes[4][0]])\n",
    "B5.append(Bare[Bare_folds_indexes[4][1]])\n",
    "\n",
    "B =[]\n",
    "B.append(B1)\n",
    "B.append(B2)\n",
    "B.append(B3)\n",
    "B.append(B4)\n",
    "B.append(B5)\n",
    "\n",
    "Bare_Kfold_idx=np.array(B)\n",
    "Bare_Kfold_idx"
   ]
  },
  {
   "cell_type": "code",
   "execution_count": 25,
   "metadata": {
    "collapsed": true
   },
   "outputs": [],
   "source": [
    "np.save(\"Plants_Kfold_idx.npy\",Plants_Kfold_idx)\n",
    "np.save(\"Bare_Kfold_idx.npy\",Bare_Kfold_idx)"
   ]
  },
  {
   "cell_type": "code",
   "execution_count": 26,
   "metadata": {
    "collapsed": false
   },
   "outputs": [
    {
     "data": {
      "text/plain": [
       "(11164,)"
      ]
     },
     "execution_count": 26,
     "metadata": {},
     "output_type": "execute_result"
    }
   ],
   "source": [
    "Bare.shape"
   ]
  },
  {
   "cell_type": "code",
   "execution_count": 27,
   "metadata": {
    "collapsed": false
   },
   "outputs": [
    {
     "data": {
      "text/plain": [
       "(8931,)"
      ]
     },
     "execution_count": 27,
     "metadata": {},
     "output_type": "execute_result"
    }
   ],
   "source": [
    "Bare_Kfold_idx[0][0].shape"
   ]
  },
  {
   "cell_type": "code",
   "execution_count": 28,
   "metadata": {
    "collapsed": false
   },
   "outputs": [
    {
     "data": {
      "text/plain": [
       "(2233,)"
      ]
     },
     "execution_count": 28,
     "metadata": {},
     "output_type": "execute_result"
    }
   ],
   "source": [
    "Bare_Kfold_idx[0][1].shape"
   ]
  },
  {
   "cell_type": "code",
   "execution_count": 30,
   "metadata": {
    "collapsed": false
   },
   "outputs": [
    {
     "data": {
      "text/plain": [
       "(109576,)"
      ]
     },
     "execution_count": 30,
     "metadata": {},
     "output_type": "execute_result"
    }
   ],
   "source": [
    "Plants.shape"
   ]
  },
  {
   "cell_type": "code",
   "execution_count": 31,
   "metadata": {
    "collapsed": false
   },
   "outputs": [
    {
     "data": {
      "text/plain": [
       "(87659,)"
      ]
     },
     "execution_count": 31,
     "metadata": {},
     "output_type": "execute_result"
    }
   ],
   "source": [
    "Plants_Kfold_idx[0][0].shape"
   ]
  },
  {
   "cell_type": "code",
   "execution_count": 32,
   "metadata": {
    "collapsed": false
   },
   "outputs": [
    {
     "data": {
      "text/plain": [
       "(21917,)"
      ]
     },
     "execution_count": 32,
     "metadata": {},
     "output_type": "execute_result"
    }
   ],
   "source": [
    "Plants_Kfold_idx[0][1].shape"
   ]
  },
  {
   "cell_type": "code",
   "execution_count": 34,
   "metadata": {
    "collapsed": true
   },
   "outputs": [],
   "source": [
    "w = np.where(Labels ==16)[0]"
   ]
  },
  {
   "cell_type": "code",
   "execution_count": 35,
   "metadata": {
    "collapsed": false
   },
   "outputs": [
    {
     "data": {
      "text/plain": [
       "(51968,)"
      ]
     },
     "execution_count": 35,
     "metadata": {},
     "output_type": "execute_result"
    }
   ],
   "source": [
    "w.shape"
   ]
  },
  {
   "cell_type": "code",
   "execution_count": null,
   "metadata": {
    "collapsed": true
   },
   "outputs": [],
   "source": []
  }
 ],
 "metadata": {
  "kernelspec": {
   "display_name": "Python 3",
   "language": "python",
   "name": "python3"
  },
  "language_info": {
   "codemirror_mode": {
    "name": "ipython",
    "version": 3
   },
   "file_extension": ".py",
   "mimetype": "text/x-python",
   "name": "python",
   "nbconvert_exporter": "python",
   "pygments_lexer": "ipython3",
   "version": "3.4.5"
  },
  "toc": {
   "base_numbering": 1,
   "nav_menu": {},
   "number_sections": true,
   "sideBar": true,
   "skip_h1_title": false,
   "title_cell": "Table of Contents",
   "title_sidebar": "Contents",
   "toc_cell": false,
   "toc_position": {},
   "toc_section_display": true,
   "toc_window_display": false
  }
 },
 "nbformat": 4,
 "nbformat_minor": 2
}
