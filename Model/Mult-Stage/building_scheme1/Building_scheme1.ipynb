{
 "cells": [
  {
   "cell_type": "markdown",
   "metadata": {},
   "source": [
    "# Vegetation v.s. No Vegetation"
   ]
  },
  {
   "cell_type": "code",
   "execution_count": 1,
   "metadata": {
    "collapsed": true
   },
   "outputs": [],
   "source": [
    "import numpy as np"
   ]
  },
  {
   "cell_type": "code",
   "execution_count": 2,
   "metadata": {
    "collapsed": false
   },
   "outputs": [
    {
     "data": {
      "text/plain": [
       "(376485,)"
      ]
     },
     "execution_count": 2,
     "metadata": {},
     "output_type": "execute_result"
    }
   ],
   "source": [
    "trn_val_y=np.load('/data/DW/Challenge/GermanAIChallenge2018/Round_2/trn_val_y.npy')\n",
    "trn_val_y.shape"
   ]
  },
  {
   "cell_type": "code",
   "execution_count": 19,
   "metadata": {
    "collapsed": false
   },
   "outputs": [
    {
     "data": {
      "text/plain": [
       "array([ 5, 16, 16, ...,  2,  7,  0])"
      ]
     },
     "execution_count": 19,
     "metadata": {},
     "output_type": "execute_result"
    }
   ],
   "source": [
    "trn_val_y"
   ]
  },
  {
   "cell_type": "code",
   "execution_count": 36,
   "metadata": {
    "collapsed": false
   },
   "outputs": [
    {
     "data": {
      "text/plain": [
       "array([     0,      3,      4, ..., 376482, 376483, 376484])"
      ]
     },
     "execution_count": 36,
     "metadata": {},
     "output_type": "execute_result"
    }
   ],
   "source": [
    "building=np.where(trn_val_y<10)[0]\n",
    "building"
   ]
  },
  {
   "cell_type": "code",
   "execution_count": 23,
   "metadata": {
    "collapsed": false
   },
   "outputs": [
    {
     "data": {
      "text/plain": [
       "array([     0,     14,     17, ..., 376462, 376465, 376477])"
      ]
     },
     "execution_count": 23,
     "metadata": {},
     "output_type": "execute_result"
    }
   ],
   "source": [
    "building_veg=np.where(((trn_val_y>=3) & (trn_val_y<6)) | (trn_val_y==8))[0]\n",
    "building_veg"
   ]
  },
  {
   "cell_type": "code",
   "execution_count": 24,
   "metadata": {
    "collapsed": false
   },
   "outputs": [
    {
     "data": {
      "text/plain": [
       "array([     3,      4,     10, ..., 376482, 376483, 376484])"
      ]
     },
     "execution_count": 24,
     "metadata": {},
     "output_type": "execute_result"
    }
   ],
   "source": [
    "building_noveg=np.where((trn_val_y<3)|((trn_val_y>=6) & (trn_val_y<8)) | (trn_val_y==9))[0]\n",
    "building_noveg"
   ]
  },
  {
   "cell_type": "code",
   "execution_count": 25,
   "metadata": {
    "collapsed": false
   },
   "outputs": [
    {
     "name": "stdout",
     "output_type": "stream",
     "text": [
      "(79444,) (124333,)\n"
     ]
    }
   ],
   "source": [
    "print(building_veg.shape,building_noveg.shape)"
   ]
  },
  {
   "cell_type": "markdown",
   "metadata": {},
   "source": [
    "New label"
   ]
  },
  {
   "cell_type": "code",
   "execution_count": 26,
   "metadata": {
    "collapsed": true
   },
   "outputs": [],
   "source": [
    "label_ve=-np.ones(trn_val_y.shape)\n",
    "label_ve[building_noveg]=0\n",
    "label_ve[building_veg]=1"
   ]
  },
  {
   "cell_type": "code",
   "execution_count": 40,
   "metadata": {
    "collapsed": false
   },
   "outputs": [],
   "source": [
    "np.save('/data/DW/Challenge/GermanAIChallenge2018/Round_2/SmallClass/building_scheme1/NoVe_Ve/nove_ve_y.npy',label_ve)"
   ]
  },
  {
   "cell_type": "code",
   "execution_count": 41,
   "metadata": {
    "collapsed": false
   },
   "outputs": [
    {
     "data": {
      "text/plain": [
       "array([ 1., -1., -1., ...,  0.,  0.,  0.])"
      ]
     },
     "execution_count": 41,
     "metadata": {},
     "output_type": "execute_result"
    }
   ],
   "source": [
    "label_ve"
   ]
  },
  {
   "cell_type": "code",
   "execution_count": 27,
   "metadata": {
    "collapsed": true
   },
   "outputs": [],
   "source": [
    "from sklearn.model_selection import StratifiedKFold"
   ]
  },
  {
   "cell_type": "code",
   "execution_count": 32,
   "metadata": {
    "collapsed": true
   },
   "outputs": [],
   "source": [
    "skf_ve = StratifiedKFold(n_splits=5,random_state=2019,shuffle=True)"
   ]
  },
  {
   "cell_type": "code",
   "execution_count": 30,
   "metadata": {
    "collapsed": false
   },
   "outputs": [],
   "source": [
    "X = np.load(\"/data/DW/Challenge/GermanAIChallenge2018/Round_2/R2trn_s1_new.npy\")[building]\n",
    "y = label_ve[building]"
   ]
  },
  {
   "cell_type": "code",
   "execution_count": 31,
   "metadata": {
    "collapsed": false
   },
   "outputs": [
    {
     "name": "stdout",
     "output_type": "stream",
     "text": [
      "(203777, 32, 32, 5) (203777,)\n"
     ]
    }
   ],
   "source": [
    "print(X.shape,y.shape)"
   ]
  },
  {
   "cell_type": "code",
   "execution_count": 33,
   "metadata": {
    "collapsed": true
   },
   "outputs": [],
   "source": [
    "Building_vege_indexes=np.array(list(skf_ve.split(X, y)))"
   ]
  },
  {
   "cell_type": "code",
   "execution_count": 34,
   "metadata": {
    "collapsed": false
   },
   "outputs": [
    {
     "data": {
      "text/plain": [
       "array([[array([     1,      2,      4, ..., 203773, 203774, 203775]),\n",
       "        array([     0,      3,     10, ..., 203758, 203765, 203776])],\n",
       "       [array([     0,      1,      2, ..., 203773, 203774, 203776]),\n",
       "        array([     6,      7,     13, ..., 203767, 203771, 203775])],\n",
       "       [array([     0,      2,      3, ..., 203774, 203775, 203776]),\n",
       "        array([     1,      8,      9, ..., 203739, 203763, 203773])],\n",
       "       [array([     0,      1,      2, ..., 203773, 203775, 203776]),\n",
       "        array([     4,     16,     19, ..., 203768, 203772, 203774])],\n",
       "       [array([     0,      1,      3, ..., 203774, 203775, 203776]),\n",
       "        array([     2,      5,     11, ..., 203766, 203769, 203770])]],\n",
       "      dtype=object)"
      ]
     },
     "execution_count": 34,
     "metadata": {},
     "output_type": "execute_result"
    }
   ],
   "source": [
    "Building_vege_indexes"
   ]
  },
  {
   "cell_type": "code",
   "execution_count": 37,
   "metadata": {
    "collapsed": false
   },
   "outputs": [],
   "source": [
    "B1_ve = []\n",
    "B2_ve = []\n",
    "B3_ve = []\n",
    "B4_ve = []\n",
    "B5_ve = []\n",
    "B1_ve.append(building[Building_vege_indexes[0][0]])\n",
    "B1_ve.append(building[Building_vege_indexes[0][1]])\n",
    "B2_ve.append(building[Building_vege_indexes[1][0]])\n",
    "B2_ve.append(building[Building_vege_indexes[1][1]])\n",
    "B3_ve.append(building[Building_vege_indexes[2][0]])\n",
    "B3_ve.append(building[Building_vege_indexes[2][1]])\n",
    "B4_ve.append(building[Building_vege_indexes[3][0]])\n",
    "B4_ve.append(building[Building_vege_indexes[3][1]])\n",
    "B5_ve.append(building[Building_vege_indexes[4][0]])\n",
    "B5_ve.append(building[Building_vege_indexes[4][1]])"
   ]
  },
  {
   "cell_type": "code",
   "execution_count": 38,
   "metadata": {
    "collapsed": true
   },
   "outputs": [],
   "source": [
    "B_ve =[]\n",
    "B_ve.append(B1_ve)\n",
    "B_ve.append(B2_ve)\n",
    "B_ve.append(B3_ve)\n",
    "B_ve.append(B4_ve)\n",
    "B_ve.append(B5_ve)"
   ]
  },
  {
   "cell_type": "code",
   "execution_count": 43,
   "metadata": {
    "collapsed": false
   },
   "outputs": [
    {
     "data": {
      "text/plain": [
       "array([[array([     3,      4,     13, ..., 376477, 376482, 376483]),\n",
       "        array([     0,     10,     20, ..., 376446, 376462, 376484])],\n",
       "       [array([     0,      3,      4, ..., 376477, 376482, 376484]),\n",
       "        array([    16,     17,     26, ..., 376465, 376472, 376483])],\n",
       "       [array([     0,      4,     10, ..., 376482, 376483, 376484]),\n",
       "        array([     3,     18,     19, ..., 376412, 376458, 376477])],\n",
       "       [array([     0,      3,      4, ..., 376477, 376483, 376484]),\n",
       "        array([    13,     32,     35, ..., 376468, 376476, 376482])],\n",
       "       [array([     0,      3,     10, ..., 376482, 376483, 376484]),\n",
       "        array([     4,     14,     23, ..., 376464, 376469, 376470])]],\n",
       "      dtype=object)"
      ]
     },
     "execution_count": 43,
     "metadata": {},
     "output_type": "execute_result"
    }
   ],
   "source": [
    "Building_Ve_idx=np.array(B_ve)\n",
    "Building_Ve_idx"
   ]
  },
  {
   "cell_type": "code",
   "execution_count": 44,
   "metadata": {
    "collapsed": true
   },
   "outputs": [],
   "source": [
    "np.save('/data/DW/Challenge/GermanAIChallenge2018/Round_2/SmallClass/building_scheme1/NoVe_Ve/Building_Ve_Nove_idx.npy',Building_Ve_idx)"
   ]
  },
  {
   "cell_type": "markdown",
   "metadata": {},
   "source": [
    "# Compact v.s. Other"
   ]
  },
  {
   "cell_type": "code",
   "execution_count": 86,
   "metadata": {
    "collapsed": true
   },
   "outputs": [],
   "source": [
    "import numpy as np"
   ]
  },
  {
   "cell_type": "code",
   "execution_count": 87,
   "metadata": {
    "collapsed": false
   },
   "outputs": [
    {
     "data": {
      "text/plain": [
       "(376485,)"
      ]
     },
     "execution_count": 87,
     "metadata": {},
     "output_type": "execute_result"
    }
   ],
   "source": [
    "trn_val_y=np.load('/data/DW/Challenge/GermanAIChallenge2018/Round_2/trn_val_y.npy')\n",
    "trn_val_y.shape"
   ]
  },
  {
   "cell_type": "code",
   "execution_count": 88,
   "metadata": {
    "collapsed": false
   },
   "outputs": [
    {
     "data": {
      "text/plain": [
       "array([ 5, 16, 16, ...,  2,  7,  0])"
      ]
     },
     "execution_count": 88,
     "metadata": {},
     "output_type": "execute_result"
    }
   ],
   "source": [
    "trn_val_y"
   ]
  },
  {
   "cell_type": "code",
   "execution_count": 89,
   "metadata": {
    "collapsed": false
   },
   "outputs": [
    {
     "data": {
      "text/plain": [
       "array([     3,      4,     10, ..., 376482, 376483, 376484])"
      ]
     },
     "execution_count": 89,
     "metadata": {},
     "output_type": "execute_result"
    }
   ],
   "source": [
    "building_noveg=np.where((trn_val_y<3)|((trn_val_y>=6) & (trn_val_y<8)) | (trn_val_y==9))[0]\n",
    "building_noveg"
   ]
  },
  {
   "cell_type": "code",
   "execution_count": 90,
   "metadata": {
    "collapsed": false
   },
   "outputs": [
    {
     "data": {
      "text/plain": [
       "array([     3,     16,     18, ..., 376476, 376482, 376484])"
      ]
     },
     "execution_count": 90,
     "metadata": {},
     "output_type": "execute_result"
    }
   ],
   "source": [
    "building_noveg_comp=np.where(trn_val_y<3)[0]\n",
    "building_noveg_comp"
   ]
  },
  {
   "cell_type": "code",
   "execution_count": 91,
   "metadata": {
    "collapsed": false
   },
   "outputs": [
    {
     "data": {
      "text/plain": [
       "array([     4,     10,     13, ..., 376469, 376472, 376483])"
      ]
     },
     "execution_count": 91,
     "metadata": {},
     "output_type": "execute_result"
    }
   ],
   "source": [
    "building_noveg_other=np.where(((trn_val_y>=6) & (trn_val_y<8)) | (trn_val_y==9))[0]\n",
    "building_noveg_other"
   ]
  },
  {
   "cell_type": "code",
   "execution_count": 92,
   "metadata": {
    "collapsed": false
   },
   "outputs": [
    {
     "name": "stdout",
     "output_type": "stream",
     "text": [
      "(65055,) (59278,)\n"
     ]
    }
   ],
   "source": [
    "print(building_noveg_comp.shape,building_noveg_other.shape)"
   ]
  },
  {
   "cell_type": "markdown",
   "metadata": {},
   "source": [
    "New label"
   ]
  },
  {
   "cell_type": "code",
   "execution_count": 93,
   "metadata": {
    "collapsed": true
   },
   "outputs": [],
   "source": [
    "label_comp_other=-np.ones(trn_val_y.shape)\n",
    "label_comp_other[building_noveg_comp]=0\n",
    "label_comp_other[building_noveg_other]=1"
   ]
  },
  {
   "cell_type": "code",
   "execution_count": 94,
   "metadata": {
    "collapsed": false
   },
   "outputs": [
    {
     "data": {
      "text/plain": [
       "array([-1., -1., -1., ...,  0.,  1.,  0.])"
      ]
     },
     "execution_count": 94,
     "metadata": {},
     "output_type": "execute_result"
    }
   ],
   "source": [
    "label_comp_other"
   ]
  },
  {
   "cell_type": "code",
   "execution_count": 95,
   "metadata": {
    "collapsed": false
   },
   "outputs": [],
   "source": [
    "np.save('/data/DW/Challenge/GermanAIChallenge2018/Round_2/SmallClass/building_scheme1/Comp_Other/comp_other_y.npy',label_comp_other)"
   ]
  },
  {
   "cell_type": "code",
   "execution_count": 96,
   "metadata": {
    "collapsed": true
   },
   "outputs": [],
   "source": [
    "from sklearn.model_selection import StratifiedKFold"
   ]
  },
  {
   "cell_type": "code",
   "execution_count": 97,
   "metadata": {
    "collapsed": true
   },
   "outputs": [],
   "source": [
    "skf_co_ot = StratifiedKFold(n_splits=5,random_state=2019,shuffle=True)"
   ]
  },
  {
   "cell_type": "code",
   "execution_count": 98,
   "metadata": {
    "collapsed": false
   },
   "outputs": [],
   "source": [
    "X = np.load(\"/data/DW/Challenge/GermanAIChallenge2018/Round_2/R2trn_s1_new.npy\")[building_noveg]\n",
    "y = label_comp_other[building_noveg]"
   ]
  },
  {
   "cell_type": "code",
   "execution_count": 99,
   "metadata": {
    "collapsed": false
   },
   "outputs": [
    {
     "name": "stdout",
     "output_type": "stream",
     "text": [
      "(124333, 32, 32, 5) (124333,)\n"
     ]
    }
   ],
   "source": [
    "print(X.shape,y.shape)"
   ]
  },
  {
   "cell_type": "code",
   "execution_count": 100,
   "metadata": {
    "collapsed": false
   },
   "outputs": [
    {
     "data": {
      "text/plain": [
       "array([0., 1.])"
      ]
     },
     "execution_count": 100,
     "metadata": {},
     "output_type": "execute_result"
    }
   ],
   "source": [
    "np.unique(y)"
   ]
  },
  {
   "cell_type": "code",
   "execution_count": 101,
   "metadata": {
    "collapsed": true
   },
   "outputs": [],
   "source": [
    "Building_nove_com_oth_indexes=np.array(list(skf_co_ot.split(X, y)))"
   ]
  },
  {
   "cell_type": "code",
   "execution_count": 102,
   "metadata": {
    "collapsed": false
   },
   "outputs": [
    {
     "data": {
      "text/plain": [
       "array([[array([     2,      3,      4, ..., 124329, 124331, 124332]),\n",
       "        array([     0,      1,      8, ..., 124325, 124328, 124330])],\n",
       "       [array([     0,      1,      2, ..., 124328, 124329, 124330]),\n",
       "        array([     3,      5,      6, ..., 124327, 124331, 124332])],\n",
       "       [array([     0,      1,      2, ..., 124330, 124331, 124332]),\n",
       "        array([    13,     16,     18, ..., 124314, 124319, 124320])],\n",
       "       [array([     0,      1,      3, ..., 124330, 124331, 124332]),\n",
       "        array([     2,      4,     30, ..., 124322, 124323, 124329])],\n",
       "       [array([     0,      1,      2, ..., 124330, 124331, 124332]),\n",
       "        array([    10,     14,     43, ..., 124310, 124315, 124318])]],\n",
       "      dtype=object)"
      ]
     },
     "execution_count": 102,
     "metadata": {},
     "output_type": "execute_result"
    }
   ],
   "source": [
    "Building_nove_com_oth_indexes"
   ]
  },
  {
   "cell_type": "code",
   "execution_count": 103,
   "metadata": {
    "collapsed": false
   },
   "outputs": [],
   "source": [
    "B1_nove_com_oth = []\n",
    "B2_nove_com_oth = []\n",
    "B3_nove_com_oth = []\n",
    "B4_nove_com_oth = []\n",
    "B5_nove_com_oth = []\n",
    "B1_nove_com_oth.append(building_noveg[Building_nove_com_oth_indexes[0][0]])\n",
    "B1_nove_com_oth.append(building_noveg[Building_nove_com_oth_indexes[0][1]])\n",
    "B2_nove_com_oth.append(building_noveg[Building_nove_com_oth_indexes[1][0]])\n",
    "B2_nove_com_oth.append(building_noveg[Building_nove_com_oth_indexes[1][1]])\n",
    "B3_nove_com_oth.append(building_noveg[Building_nove_com_oth_indexes[2][0]])\n",
    "B3_nove_com_oth.append(building_noveg[Building_nove_com_oth_indexes[2][1]])\n",
    "B4_nove_com_oth.append(building_noveg[Building_nove_com_oth_indexes[3][0]])\n",
    "B4_nove_com_oth.append(building_noveg[Building_nove_com_oth_indexes[3][1]])\n",
    "B5_nove_com_oth.append(building_noveg[Building_nove_com_oth_indexes[4][0]])\n",
    "B5_nove_com_oth.append(building_noveg[Building_nove_com_oth_indexes[4][1]])"
   ]
  },
  {
   "cell_type": "code",
   "execution_count": 104,
   "metadata": {
    "collapsed": true
   },
   "outputs": [],
   "source": [
    "B_nove_com_oth =[]\n",
    "B_nove_com_oth.append(B1_nove_com_oth)\n",
    "B_nove_com_oth.append(B2_nove_com_oth)\n",
    "B_nove_com_oth.append(B3_nove_com_oth)\n",
    "B_nove_com_oth.append(B4_nove_com_oth)\n",
    "B_nove_com_oth.append(B5_nove_com_oth)"
   ]
  },
  {
   "cell_type": "code",
   "execution_count": 105,
   "metadata": {
    "collapsed": false
   },
   "outputs": [
    {
     "data": {
      "text/plain": [
       "array([[array([    10,     13,     16, ..., 376476, 376483, 376484]),\n",
       "        array([     3,      4,     30, ..., 376468, 376472, 376482])],\n",
       "       [array([     3,      4,     10, ..., 376472, 376476, 376482]),\n",
       "        array([    13,     18,     23, ..., 376470, 376483, 376484])],\n",
       "       [array([     3,      4,     10, ..., 376482, 376483, 376484]),\n",
       "        array([    41,     48,     56, ..., 376423, 376439, 376440])],\n",
       "       [array([     3,      4,     13, ..., 376482, 376483, 376484]),\n",
       "        array([    10,     16,     87, ..., 376446, 376461, 376476])],\n",
       "       [array([     3,      4,     10, ..., 376482, 376483, 376484]),\n",
       "        array([    35,     43,    135, ..., 376412, 376426, 376429])]],\n",
       "      dtype=object)"
      ]
     },
     "execution_count": 105,
     "metadata": {},
     "output_type": "execute_result"
    }
   ],
   "source": [
    "Building_nove_com_oth_idx=np.array(B_nove_com_oth)\n",
    "Building_nove_com_oth_idx"
   ]
  },
  {
   "cell_type": "code",
   "execution_count": 106,
   "metadata": {
    "collapsed": true
   },
   "outputs": [],
   "source": [
    "np.save('/data/DW/Challenge/GermanAIChallenge2018/Round_2/SmallClass/building_scheme1/Comp_Other/Building_com_oth_idx.npy',Building_nove_com_oth_idx)"
   ]
  },
  {
   "cell_type": "markdown",
   "metadata": {},
   "source": [
    "# Open v.s. Sparse"
   ]
  },
  {
   "cell_type": "code",
   "execution_count": 71,
   "metadata": {
    "collapsed": true
   },
   "outputs": [],
   "source": [
    "import numpy as np"
   ]
  },
  {
   "cell_type": "code",
   "execution_count": 72,
   "metadata": {
    "collapsed": false
   },
   "outputs": [
    {
     "data": {
      "text/plain": [
       "(376485,)"
      ]
     },
     "execution_count": 72,
     "metadata": {},
     "output_type": "execute_result"
    }
   ],
   "source": [
    "trn_val_y=np.load('/data/DW/Challenge/GermanAIChallenge2018/Round_2/trn_val_y.npy')\n",
    "trn_val_y.shape"
   ]
  },
  {
   "cell_type": "code",
   "execution_count": 73,
   "metadata": {
    "collapsed": false
   },
   "outputs": [
    {
     "data": {
      "text/plain": [
       "array([ 5, 16, 16, ...,  2,  7,  0])"
      ]
     },
     "execution_count": 73,
     "metadata": {},
     "output_type": "execute_result"
    }
   ],
   "source": [
    "trn_val_y"
   ]
  },
  {
   "cell_type": "code",
   "execution_count": 107,
   "metadata": {
    "collapsed": false
   },
   "outputs": [
    {
     "data": {
      "text/plain": [
       "array([     0,     14,     17, ..., 376462, 376465, 376477])"
      ]
     },
     "execution_count": 107,
     "metadata": {},
     "output_type": "execute_result"
    }
   ],
   "source": [
    "building_veg=np.where(((trn_val_y>=3) & (trn_val_y<6)) | (trn_val_y==8))[0]\n",
    "building_veg"
   ]
  },
  {
   "cell_type": "code",
   "execution_count": 108,
   "metadata": {
    "collapsed": false
   },
   "outputs": [
    {
     "data": {
      "text/plain": [
       "array([     0,     17,     19, ..., 376457, 376458, 376462])"
      ]
     },
     "execution_count": 108,
     "metadata": {},
     "output_type": "execute_result"
    }
   ],
   "source": [
    "building_veg_open=np.where((trn_val_y>=3) & (trn_val_y<6))[0]\n",
    "building_veg_open"
   ]
  },
  {
   "cell_type": "code",
   "execution_count": 109,
   "metadata": {
    "collapsed": false
   },
   "outputs": [
    {
     "data": {
      "text/plain": [
       "array([    14,     20,     25, ..., 376435, 376465, 376477])"
      ]
     },
     "execution_count": 109,
     "metadata": {},
     "output_type": "execute_result"
    }
   ],
   "source": [
    "building_veg_sparse=np.where(trn_val_y==8)[0]\n",
    "building_veg_sparse"
   ]
  },
  {
   "cell_type": "code",
   "execution_count": 110,
   "metadata": {
    "collapsed": false
   },
   "outputs": [
    {
     "name": "stdout",
     "output_type": "stream",
     "text": [
      "(63946,) (15498,)\n"
     ]
    }
   ],
   "source": [
    "print(building_veg_open.shape,building_veg_sparse.shape)"
   ]
  },
  {
   "cell_type": "markdown",
   "metadata": {},
   "source": [
    "New label"
   ]
  },
  {
   "cell_type": "code",
   "execution_count": 111,
   "metadata": {
    "collapsed": true
   },
   "outputs": [],
   "source": [
    "label_open_spar=-np.ones(trn_val_y.shape)\n",
    "label_open_spar[building_veg_open]=0\n",
    "label_open_spar[building_veg_sparse]=1"
   ]
  },
  {
   "cell_type": "code",
   "execution_count": 112,
   "metadata": {
    "collapsed": false
   },
   "outputs": [
    {
     "data": {
      "text/plain": [
       "array([ 0., -1., -1., ..., -1., -1., -1.])"
      ]
     },
     "execution_count": 112,
     "metadata": {},
     "output_type": "execute_result"
    }
   ],
   "source": [
    "label_open_spar"
   ]
  },
  {
   "cell_type": "code",
   "execution_count": 113,
   "metadata": {
    "collapsed": false
   },
   "outputs": [],
   "source": [
    "np.save('/data/DW/Challenge/GermanAIChallenge2018/Round_2/SmallClass/building_scheme1/Open_Sparse/open_spar_y.npy',label_open_spar)  "
   ]
  },
  {
   "cell_type": "code",
   "execution_count": 114,
   "metadata": {
    "collapsed": true
   },
   "outputs": [],
   "source": [
    "from sklearn.model_selection import StratifiedKFold"
   ]
  },
  {
   "cell_type": "code",
   "execution_count": 115,
   "metadata": {
    "collapsed": true
   },
   "outputs": [],
   "source": [
    "skf_op_sp = StratifiedKFold(n_splits=5,random_state=2019,shuffle=True)"
   ]
  },
  {
   "cell_type": "code",
   "execution_count": 116,
   "metadata": {
    "collapsed": false
   },
   "outputs": [],
   "source": [
    "X = np.load(\"/data/DW/Challenge/GermanAIChallenge2018/Round_2/R2trn_s1_new.npy\")[building_veg]\n",
    "y = label_open_spar[building_veg]"
   ]
  },
  {
   "cell_type": "code",
   "execution_count": 117,
   "metadata": {
    "collapsed": false
   },
   "outputs": [
    {
     "name": "stdout",
     "output_type": "stream",
     "text": [
      "(79444, 32, 32, 5) (79444,)\n"
     ]
    }
   ],
   "source": [
    "print(X.shape,y.shape)"
   ]
  },
  {
   "cell_type": "code",
   "execution_count": 118,
   "metadata": {
    "collapsed": false
   },
   "outputs": [
    {
     "data": {
      "text/plain": [
       "array([0., 1.])"
      ]
     },
     "execution_count": 118,
     "metadata": {},
     "output_type": "execute_result"
    }
   ],
   "source": [
    "np.unique(y)"
   ]
  },
  {
   "cell_type": "code",
   "execution_count": 119,
   "metadata": {
    "collapsed": true
   },
   "outputs": [],
   "source": [
    "Building_ve_ope_spa_indexes=np.array(list(skf_op_sp.split(X, y)))"
   ]
  },
  {
   "cell_type": "code",
   "execution_count": 121,
   "metadata": {
    "collapsed": false
   },
   "outputs": [
    {
     "data": {
      "text/plain": [
       "array([[array([    1,     2,     3, ..., 79437, 79438, 79443]),\n",
       "        array([    0,     5,     8, ..., 79440, 79441, 79442])],\n",
       "       [array([    0,     1,     2, ..., 79441, 79442, 79443]),\n",
       "        array([    3,     6,     7, ..., 79435, 79437, 79438])],\n",
       "       [array([    0,     2,     3, ..., 79440, 79441, 79442]),\n",
       "        array([    1,     4,     9, ..., 79423, 79431, 79443])],\n",
       "       [array([    0,     1,     3, ..., 79441, 79442, 79443]),\n",
       "        array([    2,    23,    26, ..., 79424, 79433, 79436])],\n",
       "       [array([    0,     1,     2, ..., 79441, 79442, 79443]),\n",
       "        array([   10,    30,    33, ..., 79425, 79427, 79434])]],\n",
       "      dtype=object)"
      ]
     },
     "execution_count": 121,
     "metadata": {},
     "output_type": "execute_result"
    }
   ],
   "source": [
    "Building_ve_ope_spa_indexes"
   ]
  },
  {
   "cell_type": "code",
   "execution_count": 122,
   "metadata": {
    "collapsed": false
   },
   "outputs": [],
   "source": [
    "B1_ve_ope_spa = []\n",
    "B2_ve_ope_spa = []\n",
    "B3_ve_ope_spa = []\n",
    "B4_ve_ope_spa = []\n",
    "B5_ve_ope_spa = []\n",
    "B1_ve_ope_spa.append(building_veg[Building_ve_ope_spa_indexes[0][0]])\n",
    "B1_ve_ope_spa.append(building_veg[Building_ve_ope_spa_indexes[0][1]])\n",
    "B2_ve_ope_spa.append(building_veg[Building_ve_ope_spa_indexes[1][0]])\n",
    "B2_ve_ope_spa.append(building_veg[Building_ve_ope_spa_indexes[1][1]])\n",
    "B3_ve_ope_spa.append(building_veg[Building_ve_ope_spa_indexes[2][0]])\n",
    "B3_ve_ope_spa.append(building_veg[Building_ve_ope_spa_indexes[2][1]])\n",
    "B4_ve_ope_spa.append(building_veg[Building_ve_ope_spa_indexes[3][0]])\n",
    "B4_ve_ope_spa.append(building_veg[Building_ve_ope_spa_indexes[3][1]])\n",
    "B5_ve_ope_spa.append(building_veg[Building_ve_ope_spa_indexes[4][0]])\n",
    "B5_ve_ope_spa.append(building_veg[Building_ve_ope_spa_indexes[4][1]])"
   ]
  },
  {
   "cell_type": "code",
   "execution_count": 124,
   "metadata": {
    "collapsed": true
   },
   "outputs": [],
   "source": [
    "B_ve_ope_spa =[]\n",
    "B_ve_ope_spa.append(B1_ve_ope_spa)\n",
    "B_ve_ope_spa.append(B2_ve_ope_spa)\n",
    "B_ve_ope_spa.append(B3_ve_ope_spa)\n",
    "B_ve_ope_spa.append(B4_ve_ope_spa)\n",
    "B_ve_ope_spa.append(B5_ve_ope_spa)"
   ]
  },
  {
   "cell_type": "code",
   "execution_count": 125,
   "metadata": {
    "collapsed": false
   },
   "outputs": [
    {
     "data": {
      "text/plain": [
       "array([[array([    14,     17,     19, ..., 376451, 376455, 376477]),\n",
       "        array([     0,     25,     33, ..., 376458, 376462, 376465])],\n",
       "       [array([     0,     14,     17, ..., 376462, 376465, 376477]),\n",
       "        array([    19,     27,     32, ..., 376445, 376451, 376455])],\n",
       "       [array([     0,     17,     19, ..., 376458, 376462, 376465]),\n",
       "        array([    14,     20,     37, ..., 376378, 376419, 376477])],\n",
       "       [array([     0,     14,     19, ..., 376462, 376465, 376477]),\n",
       "        array([    17,    111,    126, ..., 376385, 376424, 376448])],\n",
       "       [array([     0,     14,     17, ..., 376462, 376465, 376477]),\n",
       "        array([    46,    142,    149, ..., 376388, 376406, 376435])]],\n",
       "      dtype=object)"
      ]
     },
     "execution_count": 125,
     "metadata": {},
     "output_type": "execute_result"
    }
   ],
   "source": [
    "Building_ve_ope_sta_idx=np.array(B_ve_ope_spa)\n",
    "Building_ve_ope_sta_idx"
   ]
  },
  {
   "cell_type": "code",
   "execution_count": 126,
   "metadata": {
    "collapsed": true
   },
   "outputs": [],
   "source": [
    "np.save('/data/DW/Challenge/GermanAIChallenge2018/Round_2/SmallClass/building_scheme1/Open_Sparse/Building_ope_sta_idx.npy',Building_ve_ope_sta_idx) "
   ]
  },
  {
   "cell_type": "markdown",
   "metadata": {},
   "source": [
    "# Compact"
   ]
  },
  {
   "cell_type": "code",
   "execution_count": 127,
   "metadata": {
    "collapsed": true
   },
   "outputs": [],
   "source": [
    "import numpy as np"
   ]
  },
  {
   "cell_type": "code",
   "execution_count": 128,
   "metadata": {
    "collapsed": false
   },
   "outputs": [
    {
     "data": {
      "text/plain": [
       "(376485,)"
      ]
     },
     "execution_count": 128,
     "metadata": {},
     "output_type": "execute_result"
    }
   ],
   "source": [
    "trn_val_y=np.load('/data/DW/Challenge/GermanAIChallenge2018/Round_2/trn_val_y.npy')\n",
    "trn_val_y.shape"
   ]
  },
  {
   "cell_type": "code",
   "execution_count": 129,
   "metadata": {
    "collapsed": false
   },
   "outputs": [
    {
     "data": {
      "text/plain": [
       "array([ 5, 16, 16, ...,  2,  7,  0])"
      ]
     },
     "execution_count": 129,
     "metadata": {},
     "output_type": "execute_result"
    }
   ],
   "source": [
    "trn_val_y"
   ]
  },
  {
   "cell_type": "code",
   "execution_count": 131,
   "metadata": {
    "collapsed": false
   },
   "outputs": [
    {
     "data": {
      "text/plain": [
       "array([     3,     16,     18, ..., 376476, 376482, 376484])"
      ]
     },
     "execution_count": 131,
     "metadata": {},
     "output_type": "execute_result"
    }
   ],
   "source": [
    "building_comp=np.where(trn_val_y<3)[0]\n",
    "building_comp"
   ]
  },
  {
   "cell_type": "markdown",
   "metadata": {},
   "source": [
    "New Label"
   ]
  },
  {
   "cell_type": "code",
   "execution_count": 132,
   "metadata": {
    "collapsed": true
   },
   "outputs": [],
   "source": [
    "label_comp=-np.ones(trn_val_y.shape)\n",
    "label_comp[building_comp]=trn_val_y[building_comp]"
   ]
  },
  {
   "cell_type": "code",
   "execution_count": 133,
   "metadata": {
    "collapsed": false
   },
   "outputs": [
    {
     "data": {
      "text/plain": [
       "array([-1., -1., -1., ...,  2., -1.,  0.])"
      ]
     },
     "execution_count": 133,
     "metadata": {},
     "output_type": "execute_result"
    }
   ],
   "source": [
    "label_comp"
   ]
  },
  {
   "cell_type": "code",
   "execution_count": 134,
   "metadata": {
    "collapsed": true
   },
   "outputs": [],
   "source": [
    "np.save('/data/DW/Challenge/GermanAIChallenge2018/Round_2/SmallClass/building_scheme1/Compact/comp_y.npy',label_comp)"
   ]
  },
  {
   "cell_type": "code",
   "execution_count": 135,
   "metadata": {
    "collapsed": true
   },
   "outputs": [],
   "source": [
    "from sklearn.model_selection import StratifiedKFold"
   ]
  },
  {
   "cell_type": "code",
   "execution_count": 136,
   "metadata": {
    "collapsed": true
   },
   "outputs": [],
   "source": [
    "skf_comp = StratifiedKFold(n_splits=5,random_state=2019,shuffle=True)"
   ]
  },
  {
   "cell_type": "code",
   "execution_count": 137,
   "metadata": {
    "collapsed": false
   },
   "outputs": [],
   "source": [
    "X = np.load(\"/data/DW/Challenge/GermanAIChallenge2018/Round_2/R2trn_s1_new.npy\")[building_comp]\n",
    "y = label_comp[building_comp]"
   ]
  },
  {
   "cell_type": "code",
   "execution_count": 138,
   "metadata": {
    "collapsed": false
   },
   "outputs": [
    {
     "name": "stdout",
     "output_type": "stream",
     "text": [
      "(65055, 32, 32, 5) (65055,)\n"
     ]
    }
   ],
   "source": [
    "print(X.shape,y.shape)"
   ]
  },
  {
   "cell_type": "code",
   "execution_count": 139,
   "metadata": {
    "collapsed": false
   },
   "outputs": [
    {
     "data": {
      "text/plain": [
       "array([0., 1., 2.])"
      ]
     },
     "execution_count": 139,
     "metadata": {},
     "output_type": "execute_result"
    }
   ],
   "source": [
    "np.unique(y)"
   ]
  },
  {
   "cell_type": "code",
   "execution_count": 140,
   "metadata": {
    "collapsed": true
   },
   "outputs": [],
   "source": [
    "Building_comp_indexes=np.array(list(skf_comp.split(X, y)))"
   ]
  },
  {
   "cell_type": "code",
   "execution_count": 141,
   "metadata": {
    "collapsed": false
   },
   "outputs": [
    {
     "data": {
      "text/plain": [
       "array([[array([    0,     1,     3, ..., 65048, 65049, 65052]),\n",
       "        array([    2,     6,     7, ..., 65051, 65053, 65054])],\n",
       "       [array([    0,     2,     3, ..., 65051, 65053, 65054]),\n",
       "        array([    1,     5,    10, ..., 65043, 65049, 65052])],\n",
       "       [array([    0,     1,     2, ..., 65052, 65053, 65054]),\n",
       "        array([    4,     8,    25, ..., 65038, 65045, 65047])],\n",
       "       [array([    1,     2,     4, ..., 65052, 65053, 65054]),\n",
       "        array([    0,     3,     9, ..., 65029, 65034, 65041])],\n",
       "       [array([    0,     1,     2, ..., 65052, 65053, 65054]),\n",
       "        array([   12,    15,    26, ..., 65044, 65046, 65048])]],\n",
       "      dtype=object)"
      ]
     },
     "execution_count": 141,
     "metadata": {},
     "output_type": "execute_result"
    }
   ],
   "source": [
    "Building_comp_indexes"
   ]
  },
  {
   "cell_type": "code",
   "execution_count": 142,
   "metadata": {
    "collapsed": false
   },
   "outputs": [],
   "source": [
    "B1_comp = []\n",
    "B2_comp = []\n",
    "B3_comp = []\n",
    "B4_comp = []\n",
    "B5_comp = []\n",
    "B1_comp.append(building_comp[Building_comp_indexes[0][0]])\n",
    "B1_comp.append(building_comp[Building_comp_indexes[0][1]])\n",
    "B2_comp.append(building_comp[Building_comp_indexes[1][0]])\n",
    "B2_comp.append(building_comp[Building_comp_indexes[1][1]])\n",
    "B3_comp.append(building_comp[Building_comp_indexes[2][0]])\n",
    "B3_comp.append(building_comp[Building_comp_indexes[2][1]])\n",
    "B4_comp.append(building_comp[Building_comp_indexes[3][0]])\n",
    "B4_comp.append(building_comp[Building_comp_indexes[3][1]])\n",
    "B5_comp.append(building_comp[Building_comp_indexes[4][0]])\n",
    "B5_comp.append(building_comp[Building_comp_indexes[4][1]])"
   ]
  },
  {
   "cell_type": "code",
   "execution_count": 143,
   "metadata": {
    "collapsed": true
   },
   "outputs": [],
   "source": [
    "B_comp =[]\n",
    "B_comp.append(B1_comp)\n",
    "B_comp.append(B2_comp)\n",
    "B_comp.append(B3_comp)\n",
    "B_comp.append(B4_comp)\n",
    "B_comp.append(B5_comp)"
   ]
  },
  {
   "cell_type": "code",
   "execution_count": 144,
   "metadata": {
    "collapsed": false
   },
   "outputs": [
    {
     "data": {
      "text/plain": [
       "array([[array([     3,     16,     34, ..., 376439, 376461, 376476]),\n",
       "        array([    18,     43,     48, ..., 376470, 376482, 376484])],\n",
       "       [array([     3,     18,     34, ..., 376470, 376482, 376484]),\n",
       "        array([    16,     38,     57, ..., 376390, 376461, 376476])],\n",
       "       [array([     3,     16,     18, ..., 376476, 376482, 376484]),\n",
       "        array([    36,     49,    136, ..., 376358, 376412, 376421])],\n",
       "       [array([    16,     18,     36, ..., 376476, 376482, 376484]),\n",
       "        array([     3,     34,     56, ..., 376322, 376343, 376381])],\n",
       "       [array([     3,     16,     18, ..., 376476, 376482, 376484]),\n",
       "        array([    67,     83,    137, ..., 376395, 376418, 376439])]],\n",
       "      dtype=object)"
      ]
     },
     "execution_count": 144,
     "metadata": {},
     "output_type": "execute_result"
    }
   ],
   "source": [
    "Building_comp_idx=np.array(B_comp)\n",
    "Building_comp_idx"
   ]
  },
  {
   "cell_type": "code",
   "execution_count": 145,
   "metadata": {
    "collapsed": true
   },
   "outputs": [],
   "source": [
    "np.save('/data/DW/Challenge/GermanAIChallenge2018/Round_2/SmallClass/building_scheme1/Compact/Building_comp_idx.npy',Building_comp_idx)"
   ]
  },
  {
   "cell_type": "markdown",
   "metadata": {},
   "source": [
    "# Other"
   ]
  },
  {
   "cell_type": "code",
   "execution_count": 146,
   "metadata": {
    "collapsed": true
   },
   "outputs": [],
   "source": [
    "import numpy as np"
   ]
  },
  {
   "cell_type": "code",
   "execution_count": 147,
   "metadata": {
    "collapsed": false
   },
   "outputs": [
    {
     "data": {
      "text/plain": [
       "(376485,)"
      ]
     },
     "execution_count": 147,
     "metadata": {},
     "output_type": "execute_result"
    }
   ],
   "source": [
    "trn_val_y=np.load('/data/DW/Challenge/GermanAIChallenge2018/Round_2/trn_val_y.npy')\n",
    "trn_val_y.shape"
   ]
  },
  {
   "cell_type": "code",
   "execution_count": 148,
   "metadata": {
    "collapsed": false
   },
   "outputs": [
    {
     "data": {
      "text/plain": [
       "array([ 5, 16, 16, ...,  2,  7,  0])"
      ]
     },
     "execution_count": 148,
     "metadata": {},
     "output_type": "execute_result"
    }
   ],
   "source": [
    "trn_val_y"
   ]
  },
  {
   "cell_type": "code",
   "execution_count": 149,
   "metadata": {
    "collapsed": false
   },
   "outputs": [
    {
     "data": {
      "text/plain": [
       "array([     4,     10,     13, ..., 376469, 376472, 376483])"
      ]
     },
     "execution_count": 149,
     "metadata": {},
     "output_type": "execute_result"
    }
   ],
   "source": [
    "building_other=np.where(((trn_val_y>=6) & (trn_val_y<8)) | (trn_val_y==9))[0]\n",
    "building_other"
   ]
  },
  {
   "cell_type": "markdown",
   "metadata": {},
   "source": [
    "New Label"
   ]
  },
  {
   "cell_type": "code",
   "execution_count": 150,
   "metadata": {
    "collapsed": true
   },
   "outputs": [],
   "source": [
    "label_other=-np.ones(trn_val_y.shape)\n",
    "\n",
    "label_other[np.where(trn_val_y==6)[0]]=0\n",
    "label_other[np.where(trn_val_y==7)[0]]=1\n",
    "label_other[np.where(trn_val_y==9)[0]]=2"
   ]
  },
  {
   "cell_type": "code",
   "execution_count": 152,
   "metadata": {
    "collapsed": false
   },
   "outputs": [
    {
     "data": {
      "text/plain": [
       "array([-1., -1., -1., ..., -1.,  1., -1.])"
      ]
     },
     "execution_count": 152,
     "metadata": {},
     "output_type": "execute_result"
    }
   ],
   "source": [
    "label_other"
   ]
  },
  {
   "cell_type": "code",
   "execution_count": 153,
   "metadata": {
    "collapsed": true
   },
   "outputs": [],
   "source": [
    "np.save('/data/DW/Challenge/GermanAIChallenge2018/Round_2/SmallClass/building_scheme1/Other/other_y.npy',label_other)"
   ]
  },
  {
   "cell_type": "code",
   "execution_count": 154,
   "metadata": {
    "collapsed": true
   },
   "outputs": [],
   "source": [
    "from sklearn.model_selection import StratifiedKFold"
   ]
  },
  {
   "cell_type": "code",
   "execution_count": 155,
   "metadata": {
    "collapsed": true
   },
   "outputs": [],
   "source": [
    "skf_other = StratifiedKFold(n_splits=5,random_state=2019,shuffle=True)"
   ]
  },
  {
   "cell_type": "code",
   "execution_count": 159,
   "metadata": {
    "collapsed": false
   },
   "outputs": [],
   "source": [
    "X = np.load(\"/data/DW/Challenge/GermanAIChallenge2018/Round_2/R2trn_s1_new.npy\")[building_other]\n",
    "y = label_other[building_other]"
   ]
  },
  {
   "cell_type": "code",
   "execution_count": 160,
   "metadata": {
    "collapsed": false
   },
   "outputs": [
    {
     "name": "stdout",
     "output_type": "stream",
     "text": [
      "(59278, 32, 32, 5) (59278,)\n"
     ]
    }
   ],
   "source": [
    "print(X.shape,y.shape)"
   ]
  },
  {
   "cell_type": "code",
   "execution_count": 161,
   "metadata": {
    "collapsed": false
   },
   "outputs": [
    {
     "data": {
      "text/plain": [
       "array([0., 1., 2.])"
      ]
     },
     "execution_count": 161,
     "metadata": {},
     "output_type": "execute_result"
    }
   ],
   "source": [
    "np.unique(y)"
   ]
  },
  {
   "cell_type": "code",
   "execution_count": 162,
   "metadata": {
    "collapsed": true
   },
   "outputs": [],
   "source": [
    "Building_other_indexes=np.array(list(skf_other.split(X, y)))"
   ]
  },
  {
   "cell_type": "code",
   "execution_count": 164,
   "metadata": {
    "collapsed": false
   },
   "outputs": [
    {
     "data": {
      "text/plain": [
       "array([[array([    0,     1,     2, ..., 59274, 59276, 59277]),\n",
       "        array([    3,     4,     7, ..., 59268, 59269, 59275])],\n",
       "       [array([    1,     2,     3, ..., 59275, 59276, 59277]),\n",
       "        array([    0,     6,     9, ..., 59264, 59271, 59273])],\n",
       "       [array([    0,     1,     2, ..., 59274, 59275, 59277]),\n",
       "        array([    5,    21,    27, ..., 59256, 59266, 59276])],\n",
       "       [array([    0,     3,     4, ..., 59273, 59275, 59276]),\n",
       "        array([    1,     2,    25, ..., 59272, 59274, 59277])],\n",
       "       [array([    0,     1,     2, ..., 59275, 59276, 59277]),\n",
       "        array([    8,    26,    35, ..., 59260, 59267, 59270])]],\n",
       "      dtype=object)"
      ]
     },
     "execution_count": 164,
     "metadata": {},
     "output_type": "execute_result"
    }
   ],
   "source": [
    "Building_other_indexes"
   ]
  },
  {
   "cell_type": "code",
   "execution_count": 165,
   "metadata": {
    "collapsed": false
   },
   "outputs": [],
   "source": [
    "B1_other = []\n",
    "B2_other = []\n",
    "B3_other = []\n",
    "B4_other = []\n",
    "B5_other = []\n",
    "B1_other.append(building_other[Building_other_indexes[0][0]])\n",
    "B1_other.append(building_other[Building_other_indexes[0][1]])\n",
    "B2_other.append(building_other[Building_other_indexes[1][0]])\n",
    "B2_other.append(building_other[Building_other_indexes[1][1]])\n",
    "B3_other.append(building_other[Building_other_indexes[2][0]])\n",
    "B3_other.append(building_other[Building_other_indexes[2][1]])\n",
    "B4_other.append(building_other[Building_other_indexes[3][0]])\n",
    "B4_other.append(building_other[Building_other_indexes[3][1]])\n",
    "B5_other.append(building_other[Building_other_indexes[4][0]])\n",
    "B5_other.append(building_other[Building_other_indexes[4][1]])"
   ]
  },
  {
   "cell_type": "code",
   "execution_count": 166,
   "metadata": {
    "collapsed": true
   },
   "outputs": [],
   "source": [
    "B_other =[]\n",
    "B_other.append(B1_other)\n",
    "B_other.append(B2_other)\n",
    "B_other.append(B3_other)\n",
    "B_other.append(B4_other)\n",
    "B_other.append(B5_other)"
   ]
  },
  {
   "cell_type": "code",
   "execution_count": 167,
   "metadata": {
    "collapsed": false
   },
   "outputs": [
    {
     "data": {
      "text/plain": [
       "array([[array([     4,     10,     13, ..., 376468, 376472, 376483]),\n",
       "        array([    23,     26,     41, ..., 376427, 376428, 376469])],\n",
       "       [array([    10,     13,     23, ..., 376469, 376472, 376483]),\n",
       "        array([     4,     35,     60, ..., 376405, 376440, 376446])],\n",
       "       [array([     4,     10,     13, ..., 376468, 376469, 376483]),\n",
       "        array([    30,    152,    193, ..., 376383, 376423, 376472])],\n",
       "       [array([     4,     23,     26, ..., 376446, 376469, 376472]),\n",
       "        array([    10,     13,    174, ..., 376443, 376468, 376483])],\n",
       "       [array([     4,     10,     13, ..., 376469, 376472, 376483]),\n",
       "        array([    44,    190,    241, ..., 376394, 376426, 376429])]],\n",
       "      dtype=object)"
      ]
     },
     "execution_count": 167,
     "metadata": {},
     "output_type": "execute_result"
    }
   ],
   "source": [
    "Building_other_idx=np.array(B_other)\n",
    "Building_other_idx"
   ]
  },
  {
   "cell_type": "code",
   "execution_count": 168,
   "metadata": {
    "collapsed": true
   },
   "outputs": [],
   "source": [
    "np.save('/data/DW/Challenge/GermanAIChallenge2018/Round_2/SmallClass/building_scheme1/Other/Building_other_idx.npy',Building_other_idx)"
   ]
  },
  {
   "cell_type": "markdown",
   "metadata": {},
   "source": [
    "# Open"
   ]
  },
  {
   "cell_type": "code",
   "execution_count": 169,
   "metadata": {
    "collapsed": true
   },
   "outputs": [],
   "source": [
    "import numpy as np"
   ]
  },
  {
   "cell_type": "code",
   "execution_count": 170,
   "metadata": {
    "collapsed": false
   },
   "outputs": [
    {
     "data": {
      "text/plain": [
       "(376485,)"
      ]
     },
     "execution_count": 170,
     "metadata": {},
     "output_type": "execute_result"
    }
   ],
   "source": [
    "trn_val_y=np.load('/data/DW/Challenge/GermanAIChallenge2018/Round_2/trn_val_y.npy')\n",
    "trn_val_y.shape"
   ]
  },
  {
   "cell_type": "code",
   "execution_count": 171,
   "metadata": {
    "collapsed": false
   },
   "outputs": [
    {
     "data": {
      "text/plain": [
       "array([ 5, 16, 16, ...,  2,  7,  0])"
      ]
     },
     "execution_count": 171,
     "metadata": {},
     "output_type": "execute_result"
    }
   ],
   "source": [
    "trn_val_y"
   ]
  },
  {
   "cell_type": "code",
   "execution_count": 172,
   "metadata": {
    "collapsed": false
   },
   "outputs": [
    {
     "data": {
      "text/plain": [
       "array([     0,     17,     19, ..., 376457, 376458, 376462])"
      ]
     },
     "execution_count": 172,
     "metadata": {},
     "output_type": "execute_result"
    }
   ],
   "source": [
    "building_open=np.where((trn_val_y>=3) & (trn_val_y<6))[0]\n",
    "building_open"
   ]
  },
  {
   "cell_type": "markdown",
   "metadata": {},
   "source": [
    "New Label"
   ]
  },
  {
   "cell_type": "code",
   "execution_count": 173,
   "metadata": {
    "collapsed": true
   },
   "outputs": [],
   "source": [
    "label_open=-np.ones(trn_val_y.shape)\n",
    "\n",
    "label_open[building_open]=trn_val_y[building_open]-3"
   ]
  },
  {
   "cell_type": "code",
   "execution_count": 174,
   "metadata": {
    "collapsed": false
   },
   "outputs": [
    {
     "data": {
      "text/plain": [
       "array([ 2., -1., -1., ..., -1., -1., -1.])"
      ]
     },
     "execution_count": 174,
     "metadata": {},
     "output_type": "execute_result"
    }
   ],
   "source": [
    "label_open"
   ]
  },
  {
   "cell_type": "code",
   "execution_count": 175,
   "metadata": {
    "collapsed": true
   },
   "outputs": [],
   "source": [
    "np.save('/data/DW/Challenge/GermanAIChallenge2018/Round_2/SmallClass/building_scheme1/Open/open_y.npy',label_open)"
   ]
  },
  {
   "cell_type": "code",
   "execution_count": 176,
   "metadata": {
    "collapsed": true
   },
   "outputs": [],
   "source": [
    "from sklearn.model_selection import StratifiedKFold"
   ]
  },
  {
   "cell_type": "code",
   "execution_count": 177,
   "metadata": {
    "collapsed": true
   },
   "outputs": [],
   "source": [
    "skf_open = StratifiedKFold(n_splits=5,random_state=2019,shuffle=True)"
   ]
  },
  {
   "cell_type": "code",
   "execution_count": 179,
   "metadata": {
    "collapsed": false
   },
   "outputs": [],
   "source": [
    "X = np.load(\"/data/DW/Challenge/GermanAIChallenge2018/Round_2/R2trn_s1_new.npy\")[building_open]\n",
    "y = label_open[building_open]"
   ]
  },
  {
   "cell_type": "code",
   "execution_count": 180,
   "metadata": {
    "collapsed": false
   },
   "outputs": [
    {
     "name": "stdout",
     "output_type": "stream",
     "text": [
      "(63946, 32, 32, 5) (63946,)\n"
     ]
    }
   ],
   "source": [
    "print(X.shape,y.shape)"
   ]
  },
  {
   "cell_type": "code",
   "execution_count": 181,
   "metadata": {
    "collapsed": false
   },
   "outputs": [
    {
     "data": {
      "text/plain": [
       "array([0., 1., 2.])"
      ]
     },
     "execution_count": 181,
     "metadata": {},
     "output_type": "execute_result"
    }
   ],
   "source": [
    "np.unique(y)"
   ]
  },
  {
   "cell_type": "code",
   "execution_count": 182,
   "metadata": {
    "collapsed": true
   },
   "outputs": [],
   "source": [
    "Building_open_indexes=np.array(list(skf_open.split(X, y)))"
   ]
  },
  {
   "cell_type": "code",
   "execution_count": 183,
   "metadata": {
    "collapsed": false
   },
   "outputs": [
    {
     "data": {
      "text/plain": [
       "array([[array([    0,     1,     2, ..., 63940, 63941, 63942]),\n",
       "        array([    5,     7,     9, ..., 63943, 63944, 63945])],\n",
       "       [array([    0,     1,     2, ..., 63943, 63944, 63945]),\n",
       "        array([    4,     6,    15, ..., 63927, 63932, 63938])],\n",
       "       [array([    0,     4,     5, ..., 63943, 63944, 63945]),\n",
       "        array([    1,     2,     3, ..., 63931, 63935, 63937])],\n",
       "       [array([    1,     2,     3, ..., 63943, 63944, 63945]),\n",
       "        array([    0,    21,    27, ..., 63936, 63940, 63942])],\n",
       "       [array([    0,     1,     2, ..., 63943, 63944, 63945]),\n",
       "        array([    8,    12,    17, ..., 63934, 63939, 63941])]],\n",
       "      dtype=object)"
      ]
     },
     "execution_count": 183,
     "metadata": {},
     "output_type": "execute_result"
    }
   ],
   "source": [
    "Building_open_indexes"
   ]
  },
  {
   "cell_type": "code",
   "execution_count": 184,
   "metadata": {
    "collapsed": false
   },
   "outputs": [],
   "source": [
    "B1_open = []\n",
    "B2_open = []\n",
    "B3_open = []\n",
    "B4_open = []\n",
    "B5_open = []\n",
    "B1_open.append(building_open[Building_open_indexes[0][0]])\n",
    "B1_open.append(building_open[Building_open_indexes[0][1]])\n",
    "B2_open.append(building_open[Building_open_indexes[1][0]])\n",
    "B2_open.append(building_open[Building_open_indexes[1][1]])\n",
    "B3_open.append(building_open[Building_open_indexes[2][0]])\n",
    "B3_open.append(building_open[Building_open_indexes[2][1]])\n",
    "B4_open.append(building_open[Building_open_indexes[3][0]])\n",
    "B4_open.append(building_open[Building_open_indexes[3][1]])\n",
    "B5_open.append(building_open[Building_open_indexes[4][0]])\n",
    "B5_open.append(building_open[Building_open_indexes[4][1]])"
   ]
  },
  {
   "cell_type": "code",
   "execution_count": 185,
   "metadata": {
    "collapsed": true
   },
   "outputs": [],
   "source": [
    "B_open =[]\n",
    "B_open.append(B1_open)\n",
    "B_open.append(B2_open)\n",
    "B_open.append(B3_open)\n",
    "B_open.append(B4_open)\n",
    "B_open.append(B5_open)"
   ]
  },
  {
   "cell_type": "code",
   "execution_count": 186,
   "metadata": {
    "collapsed": false
   },
   "outputs": [
    {
     "data": {
      "text/plain": [
       "array([[array([     0,     17,     19, ..., 376448, 376451, 376455]),\n",
       "        array([    33,     55,     63, ..., 376457, 376458, 376462])],\n",
       "       [array([     0,     17,     19, ..., 376457, 376458, 376462]),\n",
       "        array([    32,     46,     97, ..., 376290, 376352, 376422])],\n",
       "       [array([     0,     32,     33, ..., 376457, 376458, 376462]),\n",
       "        array([    17,     19,     27, ..., 376336, 376378, 376419])],\n",
       "       [array([    17,     19,     27, ..., 376457, 376458, 376462]),\n",
       "        array([     0,    126,    149, ..., 376406, 376448, 376455])],\n",
       "       [array([     0,     17,     19, ..., 376457, 376458, 376462]),\n",
       "        array([    59,     79,    108, ..., 376375, 376445, 376451])]],\n",
       "      dtype=object)"
      ]
     },
     "execution_count": 186,
     "metadata": {},
     "output_type": "execute_result"
    }
   ],
   "source": [
    "Building_open_idx=np.array(B_open)\n",
    "Building_open_idx"
   ]
  },
  {
   "cell_type": "code",
   "execution_count": 187,
   "metadata": {
    "collapsed": true
   },
   "outputs": [],
   "source": [
    "np.save('/data/DW/Challenge/GermanAIChallenge2018/Round_2/SmallClass/building_scheme1/Open/Building_open_idx.npy',Building_open_idx) "
   ]
  }
 ],
 "metadata": {
  "kernelspec": {
   "display_name": "Python (py4torch_tf)",
   "language": "python",
   "name": "pytorch"
  },
  "language_info": {
   "codemirror_mode": {
    "name": "ipython",
    "version": 3
   },
   "file_extension": ".py",
   "mimetype": "text/x-python",
   "name": "python",
   "nbconvert_exporter": "python",
   "pygments_lexer": "ipython3",
   "version": "3.5.6"
  },
  "toc": {
   "base_numbering": 1,
   "nav_menu": {},
   "number_sections": true,
   "sideBar": true,
   "skip_h1_title": false,
   "title_cell": "Table of Contents",
   "title_sidebar": "Contents",
   "toc_cell": false,
   "toc_position": {
    "height": "calc(100% - 180px)",
    "left": "10px",
    "top": "150px",
    "width": "165px"
   },
   "toc_section_display": true,
   "toc_window_display": true
  }
 },
 "nbformat": 4,
 "nbformat_minor": 2
}
