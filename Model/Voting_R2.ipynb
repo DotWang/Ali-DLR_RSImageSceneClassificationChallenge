{
 "cells": [
  {
   "cell_type": "code",
   "execution_count": 1,
   "metadata": {
    "collapsed": true
   },
   "outputs": [],
   "source": [
    "import pandas as pd\n",
    "import numpy as np\n",
    "import os,glob"
   ]
  },
  {
   "cell_type": "code",
   "execution_count": 2,
   "metadata": {
    "collapsed": false
   },
   "outputs": [
    {
     "name": "stdout",
     "output_type": "stream",
     "text": [
      "['/home/sigma_wd/TIANCHI/Round_2/R2_TESTB_R2/vote_R2_testb_R1.csv', '/home/sigma_wd/TIANCHI/Round_2/R2_TESTB_R2/R2_predb_double_optionB_Res50_epoch45_fold3_0212.csv', '/home/sigma_wd/TIANCHI/Round_2/R2_TESTB_R2/R2_predb_single_optionB_Res50_epoch60_fold3_0213_dehaze_yous1.csv', '/home/sigma_wd/TIANCHI/Round_2/R2_TESTB_R2/R2_predb_LSClass_single_optionB_Res50_0212_soft_straight_dehaze_nos1.csv', '/home/sigma_wd/TIANCHI/Round_2/R2_TESTB_R2/R2_predb_single_optionB_Res50_epoch175_fold1_0212.csv', '/home/sigma_wd/TIANCHI/Round_2/R2_TESTB_R2/R2_predb_single_optionB_Res50_epoch75_fold3_0212_dehaze_nos1.csv', '/home/sigma_wd/TIANCHI/Round_2/R2_TESTB_R2/R2_predb_single_optionB_Res50_epoch39_fold2_0213_dehaze_yous1.csv', '/home/sigma_wd/TIANCHI/Round_2/R2_TESTB_R2/R2_predb_single_optionB_Res50_epoch70_fold2_0212_dehaze_nos1.csv', '/home/sigma_wd/TIANCHI/Round_2/R2_TESTB_R2/R2_predb_single_optionB_Res50_epoch66_fold5_0213_dehaze_yous1.csv', '/home/sigma_wd/TIANCHI/Round_2/R2_TESTB_R2/R2_predb_single_optionB_Res50_epoch40_fold3_0212.csv', '/home/sigma_wd/TIANCHI/Round_2/R2_TESTB_R2/R2_predb_LSClass_single_optionB_Res50_0212_soft_straight.csv', '/home/sigma_wd/TIANCHI/Round_2/R2_TESTB_R2/R2_predb_single_optionB_Res50_epoch55_fold4_0212.csv', '/home/sigma_wd/TIANCHI/Round_2/R2_TESTB_R2/R2_predb_double_optionB_Res50_epoch50_fold2_0212.csv', '/home/sigma_wd/TIANCHI/Round_2/R2_TESTB_R2/R2_predb_single_optionB_Res50_epoch54_fold1_0213_dehaze_yous1.csv', '/home/sigma_wd/TIANCHI/Round_2/R2_TESTB_R2/R2_predb_double_optionB_Res50_epoch70_fold4_0212.csv', '/home/sigma_wd/TIANCHI/Round_2/R2_TESTB_R2/R2_predb_single_optionB_Res50_epoch45_fold5_0212.csv', '/home/sigma_wd/TIANCHI/Round_2/R2_TESTB_R2/R2_predb_double_optionB_Res50_epoch70_fold5_0212.csv', '/home/sigma_wd/TIANCHI/Round_2/R2_TESTB_R2/R2_predb_double_optionB_Res50_epoch65_fold5_0212_dehaze.csv', '/home/sigma_wd/TIANCHI/Round_2/R2_TESTB_R2/R2_predb_single_optionB_Res50_epoch90_fold2_0212.csv', '/home/sigma_wd/TIANCHI/Round_2/R2_TESTB_R2/R2_predb_double_optionB_Res50_epoch40_fold1_0212.csv', '/home/sigma_wd/TIANCHI/Round_2/R2_TESTB_R2/R2_predb_single_optionB_Res50_epoch30_fold4_0213_dehaze_yous1.csv']\n"
     ]
    }
   ],
   "source": [
    "path =\"/home/sigma_wd/TIANCHI/Round_2/R2_TESTB_R2/\"\n",
    "file = glob.glob(os.path.join(path,'*.csv'))\n",
    "print(file)"
   ]
  },
  {
   "cell_type": "code",
   "execution_count": 3,
   "metadata": {
    "collapsed": false
   },
   "outputs": [
    {
     "data": {
      "text/plain": [
       "21"
      ]
     },
     "execution_count": 3,
     "metadata": {},
     "output_type": "execute_result"
    }
   ],
   "source": [
    "len(file)"
   ]
  },
  {
   "cell_type": "code",
   "execution_count": 4,
   "metadata": {
    "collapsed": false
   },
   "outputs": [],
   "source": [
    "all=[]\n",
    "for f in file:\n",
    "    a = np.asarray(pd.read_csv(f,header=None))\n",
    "    l = np.argmax(a,axis=1)\n",
    "    all.append(l)"
   ]
  },
  {
   "cell_type": "code",
   "execution_count": 5,
   "metadata": {
    "collapsed": true
   },
   "outputs": [],
   "source": [
    "allnp = np.array(all)"
   ]
  },
  {
   "cell_type": "code",
   "execution_count": 6,
   "metadata": {
    "collapsed": false
   },
   "outputs": [
    {
     "data": {
      "text/plain": [
       "array([[ 8,  8,  5, ...,  7,  2,  7],\n",
       "       [ 5,  8,  5, ..., 14,  2,  7],\n",
       "       [ 8,  8,  5, ...,  7,  2,  7],\n",
       "       ...,\n",
       "       [ 8, 13,  5, ..., 14,  4,  7],\n",
       "       [ 8,  8,  5, ...,  7,  2,  7],\n",
       "       [ 8,  8,  5, ...,  9,  2,  7]])"
      ]
     },
     "execution_count": 6,
     "metadata": {},
     "output_type": "execute_result"
    }
   ],
   "source": [
    "allnp"
   ]
  },
  {
   "cell_type": "code",
   "execution_count": 7,
   "metadata": {
    "collapsed": false
   },
   "outputs": [
    {
     "data": {
      "text/plain": [
       "(4835, 21)"
      ]
     },
     "execution_count": 7,
     "metadata": {},
     "output_type": "execute_result"
    }
   ],
   "source": [
    "allnpT=allnp.T\n",
    "#vote = np.argmax(np.bincount(allnp,axis=1))\n",
    "# voten = np.bincount(allnp)\n",
    "allnpT.shape"
   ]
  },
  {
   "cell_type": "code",
   "execution_count": 8,
   "metadata": {
    "collapsed": false
   },
   "outputs": [
    {
     "data": {
      "text/plain": [
       "array([[ 8,  5,  8, ...,  8,  8,  8],\n",
       "       [ 8,  8,  8, ..., 13,  8,  8],\n",
       "       [ 5,  5,  5, ...,  5,  5,  5],\n",
       "       ...,\n",
       "       [ 7, 14,  7, ..., 14,  7,  9],\n",
       "       [ 2,  2,  2, ...,  4,  2,  2],\n",
       "       [ 7,  7,  7, ...,  7,  7,  7]])"
      ]
     },
     "execution_count": 8,
     "metadata": {},
     "output_type": "execute_result"
    }
   ],
   "source": [
    "allnpT"
   ]
  },
  {
   "cell_type": "code",
   "execution_count": 9,
   "metadata": {
    "collapsed": true
   },
   "outputs": [],
   "source": [
    "labels =[]\n",
    "for j in range(allnpT.shape[0]): \n",
    "    labels.append(np.argmax(np.bincount(allnpT[j])))"
   ]
  },
  {
   "cell_type": "code",
   "execution_count": 10,
   "metadata": {
    "collapsed": true
   },
   "outputs": [],
   "source": [
    "def write_csv(results,file_name):\n",
    "    import csv\n",
    "    with open(file_name,'w') as f:\n",
    "        writer = csv.writer(f)\n",
    "        writer.writerows(results)#注意读写"
   ]
  },
  {
   "cell_type": "code",
   "execution_count": 11,
   "metadata": {
    "collapsed": false
   },
   "outputs": [
    {
     "name": "stdout",
     "output_type": "stream",
     "text": [
      "torch.Size([4835, 1])\n"
     ]
    }
   ],
   "source": [
    "import torch\n",
    "label=torch.from_numpy(np.array(labels)[:,np.newaxis]).long()\n",
    "print(label.shape)\n",
    "result=torch.zeros(len(labels), 17).scatter_(1, label, 1)\n",
    "write_csv(result.numpy().astype(int),'vote_R2_testb_R2.csv')"
   ]
  },
  {
   "cell_type": "code",
   "execution_count": 12,
   "metadata": {
    "collapsed": false
   },
   "outputs": [
    {
     "data": {
      "text/plain": [
       "tensor([[0., 0., 0.,  ..., 0., 0., 0.],\n",
       "        [0., 0., 0.,  ..., 0., 0., 0.],\n",
       "        [0., 0., 0.,  ..., 0., 0., 0.],\n",
       "        ...,\n",
       "        [0., 0., 0.,  ..., 0., 0., 0.],\n",
       "        [0., 0., 1.,  ..., 0., 0., 0.],\n",
       "        [0., 0., 0.,  ..., 0., 0., 0.]])"
      ]
     },
     "execution_count": 12,
     "metadata": {},
     "output_type": "execute_result"
    }
   ],
   "source": [
    "result"
   ]
  },
  {
   "cell_type": "code",
   "execution_count": 3,
   "metadata": {
    "collapsed": true
   },
   "outputs": [],
   "source": [
    "#投票完成，后面为看数据"
   ]
  },
  {
   "cell_type": "code",
   "execution_count": 13,
   "metadata": {
    "collapsed": false
   },
   "outputs": [
    {
     "data": {
      "text/plain": [
       "array([8, 8, 5, ..., 7, 2, 7])"
      ]
     },
     "execution_count": 13,
     "metadata": {},
     "output_type": "execute_result"
    }
   ],
   "source": [
    "res95 = pd.read_csv('vote_R2_testb_R2.csv',header=None)\n",
    "res95np = res95.values\n",
    "labels95 = np.argmax(res95np,axis=1)\n",
    "b=np.array(labels)\n",
    "b"
   ]
  },
  {
   "cell_type": "code",
   "execution_count": 14,
   "metadata": {
    "collapsed": false
   },
   "outputs": [
    {
     "data": {
      "text/plain": [
       "array([[ 8,  8],\n",
       "       [ 8,  8],\n",
       "       [ 5,  5],\n",
       "       [ 0,  0],\n",
       "       [13, 13],\n",
       "       [15, 15],\n",
       "       [ 7,  7],\n",
       "       [ 5,  5],\n",
       "       [ 9,  9],\n",
       "       [ 2,  2],\n",
       "       [ 3,  3],\n",
       "       [16, 16],\n",
       "       [10, 10],\n",
       "       [16, 16],\n",
       "       [ 3,  3],\n",
       "       [10, 10],\n",
       "       [ 7,  7],\n",
       "       [10, 10],\n",
       "       [ 7,  7],\n",
       "       [ 7,  7],\n",
       "       [ 2,  2],\n",
       "       [ 2,  2],\n",
       "       [14, 14],\n",
       "       [ 0,  0],\n",
       "       [13, 13],\n",
       "       [16, 16],\n",
       "       [ 2,  2],\n",
       "       [ 7,  7],\n",
       "       [16, 16],\n",
       "       [16, 16]])"
      ]
     },
     "execution_count": 14,
     "metadata": {},
     "output_type": "execute_result"
    }
   ],
   "source": [
    "c = labels95[:30,np.newaxis]\n",
    "d= b[:30,np.newaxis]\n",
    "a = np.concatenate((c,d),axis=1)\n",
    "a"
   ]
  },
  {
   "cell_type": "code",
   "execution_count": 15,
   "metadata": {
    "collapsed": true
   },
   "outputs": [],
   "source": [
    "%matplotlib inline\n",
    "import matplotlib.pyplot as plt"
   ]
  },
  {
   "cell_type": "code",
   "execution_count": 16,
   "metadata": {
    "collapsed": true
   },
   "outputs": [],
   "source": [
    "num= np.bincount(labels)\n",
    "x = [i for i in range(17)]"
   ]
  },
  {
   "cell_type": "code",
   "execution_count": 17,
   "metadata": {
    "collapsed": false
   },
   "outputs": [
    {
     "data": {
      "text/plain": [
       "([<matplotlib.axis.XTick at 0x7f219ea1cfd0>,\n",
       "  <matplotlib.axis.XTick at 0x7f219ea1c8d0>,\n",
       "  <matplotlib.axis.XTick at 0x7f219ea1c5c0>,\n",
       "  <matplotlib.axis.XTick at 0x7f219e9906d8>,\n",
       "  <matplotlib.axis.XTick at 0x7f219e990d68>,\n",
       "  <matplotlib.axis.XTick at 0x7f219e99e278>,\n",
       "  <matplotlib.axis.XTick at 0x7f219e99e748>,\n",
       "  <matplotlib.axis.XTick at 0x7f219e99ec18>,\n",
       "  <matplotlib.axis.XTick at 0x7f219e922160>,\n",
       "  <matplotlib.axis.XTick at 0x7f219e922630>,\n",
       "  <matplotlib.axis.XTick at 0x7f219e922b38>,\n",
       "  <matplotlib.axis.XTick at 0x7f219e922710>,\n",
       "  <matplotlib.axis.XTick at 0x7f219e99e898>,\n",
       "  <matplotlib.axis.XTick at 0x7f219e990860>,\n",
       "  <matplotlib.axis.XTick at 0x7f219e928518>,\n",
       "  <matplotlib.axis.XTick at 0x7f219e928a20>,\n",
       "  <matplotlib.axis.XTick at 0x7f219e928f28>],\n",
       " <a list of 17 Text xticklabel objects>)"
      ]
     },
     "execution_count": 17,
     "metadata": {},
     "output_type": "execute_result"
    },
    {
     "data": {
      "image/png": "[encoded data removed]",
      "text/plain": [
       "<Figure size 432x288 with 1 Axes>"
      ]
     },
     "metadata": {
      "needs_background": "light"
     },
     "output_type": "display_data"
    }
   ],
   "source": [
    "plt.bar(x,num)\n",
    "plt.xticks(x)"
   ]
  },
  {
   "cell_type": "code",
   "execution_count": 18,
   "metadata": {
    "collapsed": false
   },
   "outputs": [
    {
     "data": {
      "text/plain": [
       "4835"
      ]
     },
     "execution_count": 18,
     "metadata": {},
     "output_type": "execute_result"
    }
   ],
   "source": [
    "len(labels)"
   ]
  },
  {
   "cell_type": "code",
   "execution_count": null,
   "metadata": {
    "collapsed": true
   },
   "outputs": [],
   "source": []
  }
 ],
 "metadata": {
  "kernelspec": {
   "display_name": "Python (py4torch_tf)",
   "language": "python",
   "name": "pytorch"
  },
  "language_info": {
   "codemirror_mode": {
    "name": "ipython",
    "version": 3
   },
   "file_extension": ".py",
   "mimetype": "text/x-python",
   "name": "python",
   "nbconvert_exporter": "python",
   "pygments_lexer": "ipython3",
   "version": "3.5.6"
  },
  "toc": {
   "base_numbering": 1,
   "nav_menu": {},
   "number_sections": true,
   "sideBar": true,
   "skip_h1_title": false,
   "title_cell": "Table of Contents",
   "title_sidebar": "Contents",
   "toc_cell": false,
   "toc_position": {},
   "toc_section_display": true,
   "toc_window_display": false
  }
 },
 "nbformat": 4,
 "nbformat_minor": 2
}
