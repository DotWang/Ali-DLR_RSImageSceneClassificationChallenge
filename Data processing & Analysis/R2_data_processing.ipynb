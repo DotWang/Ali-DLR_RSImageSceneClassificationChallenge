{
 "cells": [
  {
   "cell_type": "code",
   "execution_count": 1,
   "metadata": {
    "collapsed": true
   },
   "outputs": [],
   "source": [
    "import numpy as np"
   ]
  },
  {
   "cell_type": "markdown",
   "metadata": {},
   "source": [
    "### S1"
   ]
  },
  {
   "cell_type": "markdown",
   "metadata": {},
   "source": [
    "#### Load dataset"
   ]
  },
  {
   "cell_type": "code",
   "execution_count": 2,
   "metadata": {
    "collapsed": false
   },
   "outputs": [
    {
     "data": {
      "text/plain": [
       "(352366, 32, 32, 8)"
      ]
     },
     "execution_count": 2,
     "metadata": {},
     "output_type": "execute_result"
    }
   ],
   "source": [
    "train_s1=np.load('/data/DW/Challenge/GermanAIChallenge2018/train_s1.npy')\n",
    "\n",
    "train_s1.shape"
   ]
  },
  {
   "cell_type": "code",
   "execution_count": 3,
   "metadata": {
    "collapsed": false
   },
   "outputs": [
    {
     "data": {
      "text/plain": [
       "(24119, 32, 32, 8)"
      ]
     },
     "execution_count": 3,
     "metadata": {},
     "output_type": "execute_result"
    }
   ],
   "source": [
    "valid_s1=np.load('/data/DW/Challenge/GermanAIChallenge2018/valid_s1.npy')\n",
    "\n",
    "valid_s1.shape"
   ]
  },
  {
   "cell_type": "code",
   "execution_count": 3,
   "metadata": {
    "collapsed": false
   },
   "outputs": [
    {
     "data": {
      "text/plain": [
       "(4835, 32, 32, 8)"
      ]
     },
     "execution_count": 3,
     "metadata": {},
     "output_type": "execute_result"
    }
   ],
   "source": [
    "R2testb_s1=np.load(\"/data/DW/Challenge/GermanAIChallenge2018/Round_2/R2testb_s1.npy\")\n",
    "\n",
    "R2testb_s1.shape"
   ]
  },
  {
   "cell_type": "code",
   "execution_count": 4,
   "metadata": {
    "collapsed": false
   },
   "outputs": [
    {
     "name": "stdout",
     "output_type": "stream",
     "text": [
      "(4835, 32, 32, 8)\n"
     ]
    }
   ],
   "source": [
    "# concancate\n",
    "# all_s1=np.concatenate((train_s1,valid_s1,R2testa_s1),axis=0)\n",
    "\n",
    "# print(all_s1.shape)\n",
    "\n",
    "# del train_s1,valid_s1,R2testa_s1\n",
    "\n",
    "all_s1=R2testb_s1\n",
    "print(all_s1.shape)"
   ]
  },
  {
   "cell_type": "markdown",
   "metadata": {},
   "source": [
    "#### Generate intensity"
   ]
  },
  {
   "cell_type": "code",
   "execution_count": 5,
   "metadata": {
    "collapsed": false
   },
   "outputs": [
    {
     "name": "stdout",
     "output_type": "stream",
     "text": [
      "(4835, 32, 32, 4) (4835, 32, 32, 4)\n"
     ]
    }
   ],
   "source": [
    "#intensity\n",
    "all_s1_first4=all_s1[:,:,:,:4]\n",
    "#Covar-Mat\n",
    "all_s1_second4=all_s1[:,:,:,4:]\n",
    "\n",
    "del all_s1\n",
    "\n",
    "print(all_s1_first4.shape,all_s1_second4.shape)"
   ]
  },
  {
   "cell_type": "markdown",
   "metadata": {},
   "source": [
    "##### log\n",
    "$$x'=C\\cdot\\log\\left(|x|+1\\right)$$"
   ]
  },
  {
   "cell_type": "code",
   "execution_count": 6,
   "metadata": {
    "collapsed": true
   },
   "outputs": [],
   "source": [
    "all_s1_first4_log=np.log(np.abs(all_s1_first4)+1)\n",
    "\n",
    "del all_s1_first4"
   ]
  },
  {
   "cell_type": "code",
   "execution_count": 7,
   "metadata": {
    "collapsed": true
   },
   "outputs": [],
   "source": [
    "all_s1_first4_gau=all_s1_first4_log"
   ]
  },
  {
   "cell_type": "markdown",
   "metadata": {},
   "source": [
    "##### Gaussian Filter\n",
    "\n",
    "$$x''=x'*G$$"
   ]
  },
  {
   "cell_type": "code",
   "execution_count": 8,
   "metadata": {
    "collapsed": false
   },
   "outputs": [],
   "source": [
    "import numpy as np\n",
    "import scipy.misc\n",
    "import scipy.signal\n",
    "from tqdm import tqdm\n",
    "\n",
    "# 概率密度函数\n",
    "def get_cv(r, sigma):\n",
    "    return 1 / (2 * np.pi * sigma ** 2) * np.exp((-r**2) / (2 * sigma ** 2))\n",
    "\n",
    "# 高斯滤波掩模\n",
    "def get_window():\n",
    "    # 模糊半径为 2, sigma 为 1.5\n",
    "    radius, sigma = 2, 1.5\n",
    "    window = np.zeros((radius * 2 + 1, radius * 2 + 1))\n",
    "    for i in range(-radius, radius + 1):\n",
    "        for j in range(-radius, radius + 1):\n",
    "            r = (i ** 2 + j ** 2) ** 0.5\n",
    "            window[i + radius][j + radius] = get_cv(r, sigma)\n",
    "    return window / np.sum(window)\n",
    "\n",
    "def convert_2d(r):\n",
    "    window = get_window()\n",
    "    s = scipy.signal.convolve2d(r, window, mode='same', boundary='symm')\n",
    "    return s.astype(np.float)\n",
    "\n",
    "def convert_3d(r):\n",
    "    s_dsplit = []\n",
    "    for d in range(r.shape[2]):\n",
    "        rr = r[:, :, d]\n",
    "        ss = convert_2d(rr)\n",
    "        s_dsplit.append(ss)\n",
    "    s = np.dstack(s_dsplit)\n",
    "    return s"
   ]
  },
  {
   "cell_type": "code",
   "execution_count": 9,
   "metadata": {
    "collapsed": false
   },
   "outputs": [
    {
     "name": "stderr",
     "output_type": "stream",
     "text": [
      "100%|██████████| 4835/4835 [00:05<00:00, 853.94it/s] \n"
     ]
    }
   ],
   "source": [
    "\n",
    "for i in tqdm(range(all_s1_first4_log.shape[0])):\n",
    "    all_s1_first4_gau[[i],:,:,:] = convert_3d(all_s1_first4_log[i,:,:,:])[np.newaxis,:,:,:]"
   ]
  },
  {
   "cell_type": "markdown",
   "metadata": {},
   "source": [
    "##### VH & VV  \n",
    "$$S^2=R^2+I^2$$"
   ]
  },
  {
   "cell_type": "code",
   "execution_count": 10,
   "metadata": {
    "collapsed": false
   },
   "outputs": [
    {
     "name": "stdout",
     "output_type": "stream",
     "text": [
      "(4835, 32, 32, 1)\n",
      "(4835, 32, 32, 1)\n"
     ]
    }
   ],
   "source": [
    "VH=np.sqrt(all_s1_first4_gau[:,:,:,[0]]**2+all_s1_first4_gau[:,:,:,[1]]**2)\n",
    "print(VH.shape)\n",
    "\n",
    "VV=np.sqrt(all_s1_first4_gau[:,:,:,[2]]**2+all_s1_first4_gau[:,:,:,[3]]**2)\n",
    "print(VV.shape)"
   ]
  },
  {
   "cell_type": "markdown",
   "metadata": {},
   "source": [
    "##### Merge"
   ]
  },
  {
   "cell_type": "code",
   "execution_count": 11,
   "metadata": {
    "collapsed": true
   },
   "outputs": [],
   "source": [
    "all_s1_first4_new=np.concatenate((VH,VV),axis=3)\n",
    "all_s1_first4_new.shape\n",
    "\n",
    "del all_s1_first4_log,all_s1_first4_gau,VH,VV"
   ]
  },
  {
   "cell_type": "code",
   "execution_count": 12,
   "metadata": {
    "collapsed": false
   },
   "outputs": [
    {
     "data": {
      "text/plain": [
       "(4835, 32, 32, 2)"
      ]
     },
     "execution_count": 12,
     "metadata": {},
     "output_type": "execute_result"
    }
   ],
   "source": [
    "all_s1_first4_new.shape"
   ]
  },
  {
   "cell_type": "markdown",
   "metadata": {},
   "source": [
    "#### Covariance Matrix"
   ]
  },
  {
   "cell_type": "markdown",
   "metadata": {},
   "source": [
    "##### Production\n",
    "$$\n",
    "\\begin{equation}\n",
    "C=\n",
    "\\left[\n",
    "    \\begin{array}{ccc}\n",
    "      0 & 0 & 0 \\\\\n",
    "      0 & 2|S_{VH}|^2 & \\sqrt{2}S_{VH}S_{VV} \\\\\n",
    "      0 & \\sqrt{2}S_{VH}S_{VV} & |S_{VV}|^2 \\\\\n",
    "    \\end{array}\n",
    "\\right]\n",
    "\\end{equation}\n",
    "$$"
   ]
  },
  {
   "cell_type": "code",
   "execution_count": 13,
   "metadata": {
    "collapsed": false
   },
   "outputs": [
    {
     "data": {
      "text/plain": [
       "(4835, 32, 32, 1)"
      ]
     },
     "execution_count": 13,
     "metadata": {},
     "output_type": "execute_result"
    }
   ],
   "source": [
    "all_s1_second4_off_diag=np.sqrt(all_s1_second4[:,:,:,[2]]**2+all_s1_second4[:,:,:,[3]]**2)\n",
    "all_s1_second4_off_diag.shape"
   ]
  },
  {
   "cell_type": "code",
   "execution_count": 14,
   "metadata": {
    "collapsed": false
   },
   "outputs": [
    {
     "name": "stdout",
     "output_type": "stream",
     "text": [
      "1740.7296142578125 -638.33935546875\n"
     ]
    }
   ],
   "source": [
    "print(np.max(all_s1_second4),np.min(all_s1_second4))"
   ]
  },
  {
   "cell_type": "markdown",
   "metadata": {},
   "source": [
    "##### Freeman-Durden decomposition"
   ]
  },
  {
   "cell_type": "code",
   "execution_count": 15,
   "metadata": {
    "collapsed": false
   },
   "outputs": [
    {
     "name": "stderr",
     "output_type": "stream",
     "text": [
      "100%|██████████| 4835/4835 [00:00<00:00, 7620.73it/s]"
     ]
    },
    {
     "name": "stdout",
     "output_type": "stream",
     "text": [
      "(4835, 32, 32, 3)\n"
     ]
    },
    {
     "name": "stderr",
     "output_type": "stream",
     "text": [
      "\n"
     ]
    }
   ],
   "source": [
    "#https://blog.csdn.net/peng_peng123/article/details/50476084 \n",
    "\n",
    "#A=(1/sqrt(2))*[1 0 1;1 0 -1;0 sqrt(2) 0];    #相干矩阵[T]和协方差矩阵的转化系数\n",
    "freem=np.zeros([all_s1_second4.shape[0],all_s1_second4.shape[1],all_s1_second4.shape[2],3])\n",
    "for ii in tqdm(range(all_s1_second4.shape[0])):\n",
    "    #t=[t11(ii,jj) t12(ii,jj) t13(ii,jj);t12(ii,jj)' t22(ii,jj) t23(ii,jj);t13(ii,jj)' t23(ii,jj)' t33(ii,jj)];\n",
    "    #c=inv(A)*t*inv(A')##得到协方差矩阵\n",
    "    C22=2*all_s1_second4[ii,:,:,0]\n",
    "    C33=all_s1_second4[ii,:,:,1]\n",
    "    C23=all_s1_second4_off_diag[ii,:,:0]\n",
    "    fv=(3/2)*C22\n",
    "    pv=(8/3)*fv #求pv\n",
    "    #if real(c(1,3))>=0:\n",
    "    alph=-1\n",
    "    beta=1+(0-C33)/(0+C33-2*C22)\n",
    "    beta[0+C33-2*C22 == 0] = 0\n",
    "    # be=(c(1,1)+c(1,3)-2*c(2,2))/(c(1,3)+c(3,3)-2*c(2,2));\n",
    "    ##求ps和pd\n",
    "    fs = (0 + C33 - 2*C22)/(1 + beta)\n",
    "    fs[1 + beta == 0] = 0\n",
    "    ps=fs*(1+(np.abs(beta))**2)\n",
    "    fd=C33-fs-fv\n",
    "    pd=2*fd\n",
    "##得到Pv、Ps、Pd三个分量\n",
    "    freem[ii,:,:,0]=pd\n",
    "    freem[ii,:,:,1]=pv\n",
    "    freem[ii,:,:,2]=ps\n",
    "    \n",
    "print(freem.shape)"
   ]
  },
  {
   "cell_type": "code",
   "execution_count": 16,
   "metadata": {
    "collapsed": false
   },
   "outputs": [
    {
     "name": "stderr",
     "output_type": "stream",
     "text": [
      "Clipping input data to the valid range for imshow with RGB data ([0..1] for floats or [0..255] for integers).\n"
     ]
    },
    {
     "name": "stdout",
     "output_type": "stream",
     "text": [
      "606.6053440320276 -606.4738767194533\n"
     ]
    },
    {
     "name": "stderr",
     "output_type": "stream",
     "text": [
      "/home/sigma_wd/anaconda3/envs/pytorch/lib/python3.5/site-packages/scipy/stats/stats.py:1713: FutureWarning: Using a non-tuple sequence for multidimensional indexing is deprecated; use `arr[tuple(seq)]` instead of `arr[seq]`. In the future this will be interpreted as an array index, `arr[np.array(seq)]`, which will result either in an error or a different result.\n",
      "  return np.add.reduce(sorted[indexer] * weights, axis=axis) / sumval\n"
     ]
    },
    {
     "data": {
      "text/plain": [
       "<matplotlib.axes._subplots.AxesSubplot at 0x7f9f85511b00>"
      ]
     },
     "execution_count": 16,
     "metadata": {},
     "output_type": "execute_result"
    },
    {
     "data": {
      "image/png": "[encoded data removed]",
      "text/plain": [
       "<Figure size 1080x432 with 2 Axes>"
      ]
     },
     "metadata": {
      "needs_background": "light"
     },
     "output_type": "display_data"
    }
   ],
   "source": [
    "import matplotlib.pyplot as plt\n",
    "%matplotlib inline\n",
    "from sklearn.preprocessing import MinMaxScaler\n",
    "\n",
    "scaler=MinMaxScaler(feature_range=(0,1))\n",
    "\n",
    "print(np.max(freem[66,:,:,:]),np.min(freem[66,:,:,:]))\n",
    "plt.figure(1,figsize=(15,6))\n",
    "\n",
    "plt.subplot(1,2,1)\n",
    "plt.imshow(freem[999,:,:,:])\n",
    "\n",
    "import seaborn as sns\n",
    "\n",
    "plt.subplot(1,2,2)\n",
    "sns.distplot(freem[999,:,:,:].flatten())"
   ]
  },
  {
   "cell_type": "markdown",
   "metadata": {},
   "source": [
    "##### log"
   ]
  },
  {
   "cell_type": "code",
   "execution_count": 17,
   "metadata": {
    "collapsed": true
   },
   "outputs": [],
   "source": [
    "freem_log=np.log(np.abs(freem)+1)"
   ]
  },
  {
   "cell_type": "markdown",
   "metadata": {},
   "source": [
    "#####  Gaussian Filter"
   ]
  },
  {
   "cell_type": "code",
   "execution_count": 18,
   "metadata": {
    "collapsed": false
   },
   "outputs": [
    {
     "name": "stderr",
     "output_type": "stream",
     "text": [
      "100%|██████████| 4835/4835 [00:03<00:00, 1275.16it/s]\n"
     ]
    }
   ],
   "source": [
    "freem_gau=freem\n",
    "\n",
    "for i in tqdm(range(freem.shape[0])):\n",
    "    freem_gau[[i],:,:,:] = convert_3d(freem_log[i,:,:,:])[np.newaxis,:,:,:]"
   ]
  },
  {
   "cell_type": "code",
   "execution_count": 19,
   "metadata": {
    "collapsed": false
   },
   "outputs": [
    {
     "data": {
      "text/plain": [
       "<matplotlib.image.AxesImage at 0x7f9f3389d080>"
      ]
     },
     "execution_count": 19,
     "metadata": {},
     "output_type": "execute_result"
    },
    {
     "data": {
      "image/png": "[encoded data removed]",
      "text/plain": [
       "<Figure size 720x576 with 3 Axes>"
      ]
     },
     "metadata": {
      "needs_background": "light"
     },
     "output_type": "display_data"
    }
   ],
   "source": [
    "plt.figure(2,figsize=(10,8))\n",
    "plt.subplot(1,3,1)\n",
    "plt.imshow(freem_gau[999])\n",
    "plt.subplot(1,3,2)\n",
    "plt.imshow(all_s1_first4_new[999,:,:,0])\n",
    "plt.subplot(1,3,3)\n",
    "plt.imshow(all_s1_first4_new[999,:,:,1])"
   ]
  },
  {
   "cell_type": "markdown",
   "metadata": {},
   "source": [
    "#### Concancate & Split"
   ]
  },
  {
   "cell_type": "code",
   "execution_count": 20,
   "metadata": {
    "collapsed": false
   },
   "outputs": [
    {
     "name": "stdout",
     "output_type": "stream",
     "text": [
      "(4835, 32, 32, 5)\n"
     ]
    }
   ],
   "source": [
    "all_s1_new=np.concatenate((all_s1_first4_new,freem_gau),axis=3)\n",
    "\n",
    "print(all_s1_new.shape)\n",
    "\n",
    "del all_s1_second4,all_s1_second4_off_diag\n",
    "del freem,freem_log,freem_gau\n",
    "del all_s1_first4_new"
   ]
  },
  {
   "cell_type": "markdown",
   "metadata": {},
   "source": [
    "split"
   ]
  },
  {
   "cell_type": "code",
   "execution_count": 22,
   "metadata": {
    "collapsed": false
   },
   "outputs": [
    {
     "name": "stdout",
     "output_type": "stream",
     "text": [
      "(376485, 32, 32, 5) (4842, 32, 32, 5)\n"
     ]
    }
   ],
   "source": [
    "#trn+val\n",
    "# all_s1_new_trn=all_s1_new[:-4842,:,:,:]\n",
    "# #tes\n",
    "# all_s1_new_tes=all_s1_new[-4842:,:,:,:]\n",
    "\n",
    "# del all_s1_new\n",
    "\n",
    "# print(all_s1_new_trn.shape,all_s1_new_tes.shape)"
   ]
  },
  {
   "cell_type": "markdown",
   "metadata": {},
   "source": [
    "#### Standardization & Normalization\n",
    "\n",
    "$$X'=\\frac{X-\\mu}{\\sigma},X''=(y_2-y_1)\\frac{X'-\\min{X'}}{\\max{X'}-\\min{X'}}+y_1$$"
   ]
  },
  {
   "cell_type": "code",
   "execution_count": 21,
   "metadata": {
    "collapsed": false
   },
   "outputs": [
    {
     "data": {
      "text/plain": [
       "(4951040, 5)"
      ]
     },
     "execution_count": 21,
     "metadata": {},
     "output_type": "execute_result"
    }
   ],
   "source": [
    "# from sklearn.preprocessing import StandardScaler\n",
    "\n",
    "# sta_scaler1 = StandardScaler()\n",
    "# sta_scaler1.fit(all_s1_new_trn.reshape(-1,5))\n",
    "\n",
    "# #mean\n",
    "# sta_mean1=np.mean(all_s1_new_trn.reshape(-1,5),axis=0)\n",
    "# print(sta_mean1)\n",
    "# print(sta_scaler1.mean_)\n",
    "sta_mean1=np.load('/data/DW/Challenge/GermanAIChallenge2018/Round_2/std_mean1.npy')\n",
    "# #std\n",
    "# sta_std1=np.std(all_s1_new_trn.reshape(-1,5),axis=0)\n",
    "# print(sta_std1)\n",
    "# print(sta_std1**2)\n",
    "# print(sta_scaler1.var_)\n",
    "sta_std1=np.load('/data/DW/Challenge/GermanAIChallenge2018/Round_2/std_std1.npy',)\n",
    "\n",
    "# all_s1_new_trn_sta=sta_scaler1.transform(all_s1_new_trn.reshape(-1,5)).reshape(all_s1_new_trn.shape)\n",
    "# all_s1_new_tes_sta=sta_scaler1.transform(all_s1_new_tes.reshape(-1,5)).reshape(all_s1_new_tes.shape)\n",
    "\n",
    "# del all_s1_new_trn,all_s1_new_tes\n",
    "\n",
    "testb_temp=all_s1_new.reshape(-1,5)\n",
    "\n",
    "all_s1_new_sta=(testb_temp-sta_mean1)/sta_std1\n",
    "\n",
    "all_s1_new_sta.shape"
   ]
  },
  {
   "cell_type": "code",
   "execution_count": 23,
   "metadata": {
    "collapsed": false
   },
   "outputs": [
    {
     "data": {
      "text/plain": [
       "(4951040, 5)"
      ]
     },
     "execution_count": 23,
     "metadata": {},
     "output_type": "execute_result"
    }
   ],
   "source": [
    "# from sklearn.preprocessing import MinMaxScaler\n",
    "\n",
    "# min_scaler1 = MinMaxScaler(feature_range=(-1,1))\n",
    "# min_scaler1.fit(all_s1_new_trn_sta.reshape(-1,5))\n",
    "\n",
    "# #min\n",
    "# min_min1=np.min(all_s1_new_trn_sta.reshape(-1,5),axis=0)\n",
    "# print(min_min1)\n",
    "# print(min_scaler1.data_min_)\n",
    "min_min1=np.load('/data/DW/Challenge/GermanAIChallenge2018/Round_2/min_min1.npy')\n",
    "\n",
    "#max\n",
    "# min_max1=np.max(all_s1_new_trn_sta.reshape(-1,5),axis=0)\n",
    "# print(min_max1)\n",
    "# print(min_scaler1.data_max_)\n",
    "min_max1=np.load('/data/DW/Challenge/GermanAIChallenge2018/Round_2/min_max1.npy')\n",
    "\n",
    "# all_s1_new_trn_sta_min=min_scaler1.transform(all_s1_new_trn_sta.reshape(-1,5)).reshape(all_s1_new_trn_sta.shape)\n",
    "# all_s1_new_tes_sta_min=min_scaler1.transform(all_s1_new_tes_sta.reshape(-1,5)).reshape(all_s1_new_tes_sta.shape)\n",
    "\n",
    "all_s1_new_sta_min=2*(all_s1_new_sta-min_min1)/(min_max1-min_min1)-1\n",
    "\n",
    "all_s1_new_sta_min.shape"
   ]
  },
  {
   "cell_type": "code",
   "execution_count": 24,
   "metadata": {
    "collapsed": false
   },
   "outputs": [
    {
     "data": {
      "text/plain": [
       "(4835, 32, 32, 5)"
      ]
     },
     "execution_count": 24,
     "metadata": {},
     "output_type": "execute_result"
    }
   ],
   "source": [
    "R2testb_s1_new=all_s1_new_sta_min.reshape(all_s1_new.shape)\n",
    "R2testb_s1_new.shape"
   ]
  },
  {
   "cell_type": "markdown",
   "metadata": {},
   "source": [
    "#### Save"
   ]
  },
  {
   "cell_type": "code",
   "execution_count": 26,
   "metadata": {
    "collapsed": true
   },
   "outputs": [],
   "source": [
    "# #trn\n",
    "# np.save('/data/DW/Challenge/GermanAIChallenge2018/R2trn_s1_new.npy',all_s1_new_trn_sta_min)\n",
    "# #tes\n",
    "# np.save('/data/DW/Challenge/GermanAIChallenge2018/R2tesa_s1_new.npy',all_s1_new_tes_sta_min)\n",
    "\n",
    "np.save('/data/DW/Challenge/GermanAIChallenge2018/Round_2/R2tesb_s1_new.npy',R2testb_s1_new)"
   ]
  },
  {
   "cell_type": "code",
   "execution_count": 124,
   "metadata": {
    "collapsed": false
   },
   "outputs": [],
   "source": [
    "del all_s1_new_tes_sta,all_s1_new_tes_sta_min\n",
    "del all_s1_new_trn_sta,all_s1_new_trn_sta_min"
   ]
  },
  {
   "cell_type": "markdown",
   "metadata": {},
   "source": [
    "### S2"
   ]
  },
  {
   "cell_type": "markdown",
   "metadata": {},
   "source": [
    "#### Load dataset"
   ]
  },
  {
   "cell_type": "code",
   "execution_count": 3,
   "metadata": {
    "collapsed": false
   },
   "outputs": [
    {
     "data": {
      "text/plain": [
       "(352366, 32, 32, 10)"
      ]
     },
     "execution_count": 3,
     "metadata": {},
     "output_type": "execute_result"
    }
   ],
   "source": [
    "train_s2=np.load('/data/DW/Challenge/GermanAIChallenge2018/train_s2.npy')\n",
    "\n",
    "train_s2.shape"
   ]
  },
  {
   "cell_type": "code",
   "execution_count": 4,
   "metadata": {
    "collapsed": false
   },
   "outputs": [
    {
     "data": {
      "text/plain": [
       "(24119, 32, 32, 10)"
      ]
     },
     "execution_count": 4,
     "metadata": {},
     "output_type": "execute_result"
    }
   ],
   "source": [
    "valid_s2=np.load('/data/DW/Challenge/GermanAIChallenge2018/valid_s2.npy')\n",
    "\n",
    "valid_s2.shape"
   ]
  },
  {
   "cell_type": "code",
   "execution_count": 2,
   "metadata": {
    "collapsed": false
   },
   "outputs": [
    {
     "data": {
      "text/plain": [
       "(4835, 32, 32, 10)"
      ]
     },
     "execution_count": 2,
     "metadata": {},
     "output_type": "execute_result"
    }
   ],
   "source": [
    "R2testb_s2=np.load('/data/DW/Challenge/GermanAIChallenge2018/Round_2/R2testb_s2.npy')\n",
    "\n",
    "R2testb_s2.shape"
   ]
  },
  {
   "cell_type": "code",
   "execution_count": 3,
   "metadata": {
    "collapsed": false
   },
   "outputs": [
    {
     "name": "stdout",
     "output_type": "stream",
     "text": [
      "(4835, 32, 32, 10)\n"
     ]
    }
   ],
   "source": [
    "# concancate\n",
    "# all_s2=np.concatenate((train_s2,valid_s2,R2testa_s2),axis=0)\n",
    "\n",
    "# print(all_s2.shape)\n",
    "\n",
    "# del train_s2,valid_s2,R2testa_s2\n",
    "\n",
    "all_s2=R2testb_s2\n",
    "\n",
    "print(all_s2.shape)"
   ]
  },
  {
   "cell_type": "markdown",
   "metadata": {},
   "source": [
    "#### Dehaze"
   ]
  },
  {
   "cell_type": "code",
   "execution_count": 5,
   "metadata": {
    "collapsed": true
   },
   "outputs": [],
   "source": [
    "#https://www.jianshu.com/p/df9c963a392a\n",
    "import cv2  \n",
    "import numpy as np\n",
    "   \n",
    "def zmMinFilterGray(src, r=5):  \n",
    "    '''''最小值滤波，r是滤波器半径'''  \n",
    "    return cv2.erode(src,np.ones((2*r-1,2*r-1)))\n",
    "# =============================================================================\n",
    "#     if r <= 0:  \n",
    "#         return src  \n",
    "#     h, w = src.shape[:2]  \n",
    "#     I = src  \n",
    "#     res = np.minimum(I  , I[[0]+range(h-1)  , :])  \n",
    "#     res = np.minimum(res, I[range(1,h)+[h-1], :])  \n",
    "#     I = res  \n",
    "#     res = np.minimum(I  , I[:, [0]+range(w-1)])  \n",
    "#     res = np.minimum(res, I[:, range(1,w)+[w-1]])  \n",
    "# =============================================================================\n",
    " #   return zmMinFilterGray(res, r-1)  \n",
    "    \n",
    "def guidedfilter(I, p, r, eps):  \n",
    "    '''''引导滤波，直接参考网上的matlab代码'''  \n",
    "    height, width = I.shape  \n",
    "    m_I = cv2.boxFilter(I, -1, (r,r))  \n",
    "    m_p = cv2.boxFilter(p, -1, (r,r))  \n",
    "    m_Ip = cv2.boxFilter(I*p, -1, (r,r))  \n",
    "    cov_Ip = m_Ip-m_I*m_p  \n",
    "   \n",
    "    m_II = cv2.boxFilter(I*I, -1, (r,r))  \n",
    "    var_I = m_II-m_I*m_I  \n",
    "   \n",
    "    a = cov_Ip/(var_I+eps)  \n",
    "    b = m_p-a*m_I  \n",
    "   \n",
    "    m_a = cv2.boxFilter(a, -1, (r,r))  \n",
    "    m_b = cv2.boxFilter(b, -1, (r,r))  \n",
    "    return m_a*I+m_b  \n",
    "   \n",
    "def getV1(m, r, eps, w, maxV1):  #输入rgb图像，值范围[0,1]  \n",
    "    '''''计算大气遮罩图像V1和光照值A, V1 = 1-t/A'''  \n",
    "    V1 = np.min(m,2)                                         #得到暗通道图像  \n",
    "    V1 = guidedfilter(V1, zmMinFilterGray(V1,5), r, eps)     #使用引导滤波优化  \n",
    "    bins = 2000  \n",
    "    ht = np.histogram(V1, bins)                              #计算大气光照A  \n",
    "    d = np.cumsum(ht[0])/float(V1.size)  \n",
    "    for lmax in range(bins-1, 0, -1):  \n",
    "        if d[lmax]<=0.999:  \n",
    "            break  \n",
    "    A  = np.mean(m,2)[V1>=ht[1][lmax]].max()  \n",
    "           \n",
    "    V1 = np.minimum(V1*w, maxV1)                   #对值范围进行限制  \n",
    "       \n",
    "    return V1,A  \n",
    "   \n",
    "def deHaze(m, r=9, eps=0.001, w=0.95, maxV1=0.80, bGamma=False):  \n",
    "    Y = np.zeros(m.shape)  \n",
    "    V1,A = getV1(m, r, eps, w, maxV1)               #得到遮罩图像和大气光照  \n",
    "    for k in range(m.shape[2]):  \n",
    "        Y[:,:,k] = (m[:,:,k]-V1)/(1-V1/A)           #颜色校正  \n",
    "    Y =  np.clip(Y, 1e-7, 1)\n",
    "    if bGamma:  \n",
    "        Y = Y**(np.log(0.5)/np.log(Y.mean()))       #gamma校正,默认不进行该操作  \n",
    "    return Y  "
   ]
  },
  {
   "cell_type": "code",
   "execution_count": 6,
   "metadata": {
    "collapsed": false
   },
   "outputs": [
    {
     "name": "stderr",
     "output_type": "stream",
     "text": [
      "100%|██████████| 4835/4835 [00:03<00:00, 1393.43it/s]\n"
     ]
    }
   ],
   "source": [
    "all_s2_dehaze=all_s2.copy()\n",
    "from tqdm import tqdm\n",
    "\n",
    "for i in tqdm(range(all_s2.shape[0])):\n",
    "    all_s2_dehaze[[i],:,:,:] = deHaze(all_s2[i,:,:,:])[np.newaxis,:,:,:]"
   ]
  },
  {
   "cell_type": "code",
   "execution_count": 7,
   "metadata": {
    "collapsed": false
   },
   "outputs": [
    {
     "name": "stderr",
     "output_type": "stream",
     "text": [
      "Clipping input data to the valid range for imshow with RGB data ([0..1] for floats or [0..255] for integers).\n"
     ]
    },
    {
     "name": "stdout",
     "output_type": "stream",
     "text": [
      "(32, 32, 3)\n"
     ]
    },
    {
     "data": {
      "text/plain": [
       "<matplotlib.image.AxesImage at 0x7f3a75a9b908>"
      ]
     },
     "execution_count": 7,
     "metadata": {},
     "output_type": "execute_result"
    },
    {
     "data": {
      "image/png": "[encoded data removed]",
      "text/plain": [
       "<Figure size 720x360 with 2 Axes>"
      ]
     },
     "metadata": {
      "needs_background": "light"
     },
     "output_type": "display_data"
    }
   ],
   "source": [
    "import matplotlib.pyplot as plt\n",
    "%matplotlib inline\n",
    "\n",
    "plt.figure(1,figsize=(10,5))\n",
    "plt.subplot(1,2,1)\n",
    "aaa=all_s2[99][:,:,[6,2,1]]\n",
    "print(aaa.shape)\n",
    "plt.imshow(aaa*2)\n",
    "plt.subplot(1,2,2)\n",
    "bbb=all_s2_dehaze[99][:,:,[6,2,1]]\n",
    "plt.imshow(bbb*2)"
   ]
  },
  {
   "cell_type": "markdown",
   "metadata": {},
   "source": [
    "#### NDVI & NDWI\n",
    "\n",
    "$$NDVI=\\frac{NIR-R}{NIR+R},NDWI=\\frac{G-NIR}{G+NIR}$$"
   ]
  },
  {
   "cell_type": "code",
   "execution_count": 4,
   "metadata": {
    "collapsed": false
   },
   "outputs": [],
   "source": [
    "# from sklearn.decomposition import PCA\n",
    "\n",
    "# pca_model=PCA(n_components=1)\n",
    "# all_s2_pca=pca_model.fit_transform(all_s2.reshape(-1,10)).reshape([all_s2.shape[0],all_s2.shape[1],all_s2.shape[2],1])\n",
    "# print(all_s2.shape)\n",
    "\n",
    "all_s2_dehaze=all_s2\n",
    "\n",
    "all_s2_ndvi=(all_s2_dehaze[:,:,:,[6]]-all_s2_dehaze[:,:,:,[2]])/(all_s2_dehaze[:,:,:,[6]]+all_s2_dehaze[:,:,:,[2]])#(N,32,32,1)\n",
    "all_s2_ndwi=(all_s2_dehaze[:,:,:,[1]]-all_s2_dehaze[:,:,:,[6]])/(all_s2_dehaze[:,:,:,[1]]+all_s2_dehaze[:,:,:,[6]])#(N,32,32,1)"
   ]
  },
  {
   "cell_type": "code",
   "execution_count": 11,
   "metadata": {
    "collapsed": true
   },
   "outputs": [],
   "source": [
    "del all_s2"
   ]
  },
  {
   "cell_type": "markdown",
   "metadata": {},
   "source": [
    "#### Concancate & Gaussian_Filter"
   ]
  },
  {
   "cell_type": "code",
   "execution_count": 5,
   "metadata": {
    "collapsed": false
   },
   "outputs": [
    {
     "data": {
      "text/plain": [
       "(4835, 32, 32, 12)"
      ]
     },
     "execution_count": 5,
     "metadata": {},
     "output_type": "execute_result"
    }
   ],
   "source": [
    "all_s2_con=np.concatenate((all_s2_dehaze,all_s2_ndvi,all_s2_ndwi),axis=3)\n",
    "\n",
    "all_s2_con.shape"
   ]
  },
  {
   "cell_type": "code",
   "execution_count": 14,
   "metadata": {
    "collapsed": false
   },
   "outputs": [],
   "source": [
    "del all_s2_dehaze,all_s2_ndvi,all_s2_ndwi"
   ]
  },
  {
   "cell_type": "code",
   "execution_count": 10,
   "metadata": {
    "collapsed": false
   },
   "outputs": [
    {
     "name": "stderr",
     "output_type": "stream",
     "text": [
      "100%|██████████| 381327/381327 [25:21<00:00, 250.68it/s]\n"
     ]
    }
   ],
   "source": [
    "# all_s2_con_gau=all_s2_con\n",
    "# for i in tqdm(range(all_s2_con.shape[0])):\n",
    "#     all_s2_con_gau[[i],:,:,:] = convert_3d(all_s2_con[i,:,:,:])[np.newaxis,:,:,:]"
   ]
  },
  {
   "cell_type": "markdown",
   "metadata": {},
   "source": [
    "**split**"
   ]
  },
  {
   "cell_type": "code",
   "execution_count": 6,
   "metadata": {
    "collapsed": false
   },
   "outputs": [
    {
     "data": {
      "text/plain": [
       "(4835, 32, 32, 12)"
      ]
     },
     "execution_count": 6,
     "metadata": {},
     "output_type": "execute_result"
    }
   ],
   "source": [
    "#trn+val\n",
    "# all_s2_new_trn=all_s2_con[:-4842,:,:,:]\n",
    "# #tes\n",
    "# all_s2_new_tes=all_s2_con[-4842:,:,:,:]\n",
    "\n",
    "# del all_s2_con\n",
    "\n",
    "# print(all_s2_new_trn.shape,all_s2_new_tes.shape)\n",
    "\n",
    "all_s2_new=all_s2_con\n",
    "\n",
    "all_s2_new.shape"
   ]
  },
  {
   "cell_type": "markdown",
   "metadata": {},
   "source": [
    "#### Standardization & Normalization\n",
    "\n",
    "$$X'=\\frac{X-\\mu}{\\sigma},X''=(y_2-y_1)\\frac{X'-\\min{X'}}{\\max{X'}-\\min{X'}}+y_1$$"
   ]
  },
  {
   "cell_type": "markdown",
   "metadata": {},
   "source": [
    "###### TMD,MEMORY ERROR!"
   ]
  },
  {
   "cell_type": "code",
   "execution_count": 16,
   "metadata": {
    "collapsed": true
   },
   "outputs": [],
   "source": [
    "# #trn\n",
    "# np.save('/data/DW/Challenge/GermanAIChallenge2018/Round_2/all_s2_new_trn.npy',all_s2_new_trn)\n",
    "# #tes\n",
    "# np.save('/data/DW/Challenge/GermanAIChallenge2018/Round_2/all_s2_new_tes.npy',all_s2_new_tes)"
   ]
  },
  {
   "cell_type": "code",
   "execution_count": 17,
   "metadata": {
    "collapsed": true
   },
   "outputs": [],
   "source": [
    "# #trn\n",
    "# all_s2_new_trn=np.load('/data/DW/Challenge/GermanAIChallenge2018/Round_2/all_s2_new_trn.npy')\n",
    "# #tes\n",
    "# all_s2_new_tes=np.load('/data/DW/Challenge/GermanAIChallenge2018/Round_2/all_s2_new_tes.npy')"
   ]
  },
  {
   "cell_type": "code",
   "execution_count": 18,
   "metadata": {
    "collapsed": false
   },
   "outputs": [
    {
     "name": "stdout",
     "output_type": "stream",
     "text": [
      "[ 0.09859235  0.07835379  0.07087126  0.09091966  0.15787714  0.19181336\n",
      "  0.18057296  0.21328782  0.16232975  0.09085526  0.36926505 -0.2859445 ]\n",
      "[0.04515202 0.04706159 0.07051227 0.06336596 0.08825603 0.10965589\n",
      " 0.11205073 0.12549632 0.12682652 0.10181612 0.41540645 0.41227002]\n"
     ]
    }
   ],
   "source": [
    "# temp_trn=all_s2_new_trn.reshape(-1,12)\n",
    "# #trn_mean\n",
    "# sta_mean2=np.mean(temp_trn,axis=0)\n",
    "# np.save('/data/DW/Challenge/GermanAIChallenge2018/Round_2/sta_mean2.npy',sta_mean2)\n",
    "# #tes_std\n",
    "# sta_std2=np.std(temp_trn,axis=0)\n",
    "# np.save('/data/DW/Challenge/GermanAIChallenge2018/Round_2/sta_std2.npy',sta_std2)\n",
    "\n",
    "# print(sta_mean2)\n",
    "# print(sta_std2)"
   ]
  },
  {
   "cell_type": "code",
   "execution_count": 7,
   "metadata": {
    "collapsed": false
   },
   "outputs": [
    {
     "name": "stdout",
     "output_type": "stream",
     "text": [
      "[ 0.12409098  0.10973338  0.10179375  0.11486063  0.1596039   0.18177358\n",
      "  0.17486011  0.19535037  0.15552057  0.11024101  0.21897086 -0.15469921]\n",
      "[0.03953144 0.0475408  0.06594696 0.06310347 0.07668508 0.09012078\n",
      " 0.09137111 0.1006924  0.09965389 0.08769716 0.30272428 0.30932739]\n"
     ]
    },
    {
     "data": {
      "text/plain": [
       "(4951040, 12)"
      ]
     },
     "execution_count": 7,
     "metadata": {},
     "output_type": "execute_result"
    }
   ],
   "source": [
    "# from sklearn.preprocessing import StandardScaler\n",
    "\n",
    "# sta_scaler2 = StandardScaler()\n",
    "\n",
    "\n",
    "# sta_mean2=np.mean(temp_trn,axis=0)\n",
    "# sta_std2=np.std(temp_trn,axis=0)\n",
    "\n",
    "#trn_mean\n",
    "sta_mean2=np.load('/data/DW/Challenge/GermanAIChallenge2018/Round_2/sta_mean2_haze.npy')\n",
    "print(sta_mean2)\n",
    "#trn_std\n",
    "sta_std2=np.load('/data/DW/Challenge/GermanAIChallenge2018/Round_2/sta_std2_haze.npy')\n",
    "print(sta_std2)\n",
    "\n",
    "# temp_trn1=all_s2_new_trn[:200000].reshape(-1,12)\n",
    "# all_s2_new_trn1_sta=(temp_trn1-sta_mean2)/sta_std2\n",
    "# np.save('/data/DW/Challenge/GermanAIChallenge2018/Round_2/all_s2_new_trn1_sta.npy',all_s2_new_trn1_sta)\n",
    "# del temp_trn1,all_s2_new_trn1_sta\n",
    "\n",
    "# temp_trn2=all_s2_new_trn[200000:300000,:].reshape(-1,12)\n",
    "# all_s2_new_trn2_sta=(temp_trn2-sta_mean2)/sta_std2\n",
    "# np.save('/data/DW/Challenge/GermanAIChallenge2018/Round_2/all_s2_new_trn2_sta.npy',all_s2_new_trn2_sta)\n",
    "# del temp_trn2,all_s2_new_trn2_sta\n",
    "\n",
    "# temp_trn3=all_s2_new_trn[300000:,:].reshape(-1,12)\n",
    "\n",
    "# all_s2_new_trn3_sta=(temp_trn3-sta_mean2)/sta_std2\n",
    "# np.save('/data/DW/Challenge/GermanAIChallenge2018/Round_2/all_s2_new_trn3_sta.npy',all_s2_new_trn3_sta)\n",
    "# del temp_trn3,all_s2_new_trn3_sta\n",
    "\n",
    "temp_tesb=all_s2_new.reshape(-1,12)\n",
    "all_s2_new_tes_sta=(temp_tesb-sta_mean2)/sta_std2\n",
    "# np.save('/data/DW/Challenge/GermanAIChallenge2018/Round_2/all_s2_new_tes_sta.npy',all_s2_new_tes_sta)\n",
    "# del temp_tes,all_s2_new_tes_sta\n",
    "\n",
    "all_s2_new_tes_sta.shape"
   ]
  },
  {
   "cell_type": "code",
   "execution_count": 20,
   "metadata": {
    "collapsed": true
   },
   "outputs": [],
   "source": [
    "del all_s2_new_trn,all_s2_new_tes"
   ]
  },
  {
   "cell_type": "code",
   "execution_count": 2,
   "metadata": {
    "collapsed": true
   },
   "outputs": [],
   "source": [
    "# all_s2_new_trn1_sta=np.load('/data/DW/Challenge/GermanAIChallenge2018/Round_2/all_s2_new_trn1_sta.npy')\n",
    "\n",
    "# all_s2_new_trn2_sta=np.load('/data/DW/Challenge/GermanAIChallenge2018/Round_2/all_s2_new_trn2_sta.npy')\n",
    "\n",
    "# all_s2_new_trn3_sta=np.load('/data/DW/Challenge/GermanAIChallenge2018/Round_2/all_s2_new_trn3_sta.npy')\n",
    "\n",
    "# all_s2_new_tes_sta=np.load('/data/DW/Challenge/GermanAIChallenge2018/Round_2/all_s2_new_tes_sta.npy')"
   ]
  },
  {
   "cell_type": "markdown",
   "metadata": {},
   "source": [
    "Normalization[-1,1]"
   ]
  },
  {
   "cell_type": "code",
   "execution_count": 3,
   "metadata": {
    "collapsed": false
   },
   "outputs": [],
   "source": [
    "# all_s2_new_trn_sta=np.concatenate((all_s2_new_trn1_sta,all_s2_new_trn2_sta,all_s2_new_trn3_sta),axis=0)\n",
    "\n",
    "# del all_s2_new_trn1_sta,all_s2_new_trn2_sta,all_s2_new_trn3_sta"
   ]
  },
  {
   "cell_type": "code",
   "execution_count": 8,
   "metadata": {
    "collapsed": false
   },
   "outputs": [
    {
     "name": "stdout",
     "output_type": "stream",
     "text": [
      "[-3.13651544 -2.3060903  -1.54205379 -1.81861053 -2.07998593 -2.01589001\n",
      " -1.91264078 -1.93907753 -1.5596037  -1.25592448 -4.02617783 -2.73229146]\n",
      "[67.69065061 56.5885835  40.91479585 42.55296149 34.43428579 29.05574573\n",
      " 28.73161857 25.87235572 26.53764396 30.67099356  2.57955221  3.73090546]\n"
     ]
    },
    {
     "data": {
      "text/plain": [
       "(4951040, 12)"
      ]
     },
     "execution_count": 8,
     "metadata": {},
     "output_type": "execute_result"
    }
   ],
   "source": [
    "# min_min2=np.min(all_s2_new_trn_sta,axis=0)\n",
    "\n",
    "# min_max2=np.max(all_s2_new_trn_sta,axis=0)\n",
    "\n",
    "min_min2=np.load('/data/DW/Challenge/GermanAIChallenge2018/Round_2/min_min2_haze.npy')\n",
    "\n",
    "min_max2=np.load('/data/DW/Challenge/GermanAIChallenge2018/Round_2/min_max2_haze.npy')\n",
    "\n",
    "print(min_min2)\n",
    "print(min_max2)\n",
    "\n",
    "#transform\n",
    "# all_s2_new_trn_sta_min=2*(all_s2_new_trn_sta-min_min2)/(min_max2-min_min2)-1\n",
    "\n",
    "# del all_s2_new_trn_sta\n",
    "\n",
    "all_s2_new_tes_sta_min=2*(all_s2_new_tes_sta-min_min2)/(min_max2-min_min2)-1\n",
    "\n",
    "# del all_s2_new_tes_sta\n",
    "\n",
    "all_s2_new_tes_sta_min.shape"
   ]
  },
  {
   "cell_type": "code",
   "execution_count": 9,
   "metadata": {
    "collapsed": false
   },
   "outputs": [
    {
     "data": {
      "text/plain": [
       "(4835, 32, 32, 12)"
      ]
     },
     "execution_count": 9,
     "metadata": {},
     "output_type": "execute_result"
    }
   ],
   "source": [
    "R2testb_s2_new=all_s2_new_tes_sta_min.reshape(all_s2_new.shape)\n",
    "R2testb_s2_new.shape"
   ]
  },
  {
   "cell_type": "markdown",
   "metadata": {},
   "source": [
    "#### save"
   ]
  },
  {
   "cell_type": "code",
   "execution_count": 10,
   "metadata": {
    "collapsed": true
   },
   "outputs": [],
   "source": [
    "# np.save('/data/DW/Challenge/GermanAIChallenge2018/R2trn_s2_new.npy',all_s2_new_trn_sta_min.reshape([376485, 32, 32, 12]))\n",
    "\n",
    "np.save('/data/DW/Challenge/GermanAIChallenge2018/Round_2/R2tesb_s2_new_haze.npy',R2testb_s2_new)"
   ]
  }
 ],
 "metadata": {
  "kernelspec": {
   "display_name": "Python (py4torch_tf)",
   "language": "python",
   "name": "pytorch"
  },
  "language_info": {
   "codemirror_mode": {
    "name": "ipython",
    "version": 3
   },
   "file_extension": ".py",
   "mimetype": "text/x-python",
   "name": "python",
   "nbconvert_exporter": "python",
   "pygments_lexer": "ipython3",
   "version": "3.5.6"
  },
  "toc": {
   "base_numbering": 1,
   "nav_menu": {},
   "number_sections": true,
   "sideBar": true,
   "skip_h1_title": false,
   "title_cell": "Table of Contents",
   "title_sidebar": "Contents",
   "toc_cell": false,
   "toc_position": {
    "height": "707px",
    "left": "566px",
    "top": "308.133px",
    "width": "165px"
   },
   "toc_section_display": true,
   "toc_window_display": true
  }
 },
 "nbformat": 4,
 "nbformat_minor": 2
}
