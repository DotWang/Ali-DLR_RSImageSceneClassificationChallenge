{
 "cells": [
  {
   "cell_type": "markdown",
   "metadata": {},
   "source": [
    "## Large"
   ]
  },
  {
   "cell_type": "code",
   "execution_count": 21,
   "metadata": {
    "collapsed": true
   },
   "outputs": [],
   "source": [
    "import numpy as np\n",
    "import pandas as pd"
   ]
  },
  {
   "cell_type": "code",
   "execution_count": 115,
   "metadata": {
    "collapsed": true
   },
   "outputs": [],
   "source": [
    "LargeClass_trn=np.load(\"/data/DW/Challenge/GermanAIChallenge2018/Round_2/LargeClassok.npy\")\n",
    "LargeClass_tes=np.load(\"/data/DW/Challenge/GermanAIChallenge2018/Round_2/SmallClass/LargeClass/R2_preda_single_optionB_Large_Res50_epoch65_fold1_0206.npy\")\n",
    "single_fold1=pd.read_csv(\"/data/DW/Challenge/GermanAIChallenge2018/Round_2/R2_preda_single_optionB_Res50_epoch40_fold1_0127.csv\",header=None)\n",
    "double_fold1=pd.read_csv(\"/data/DW/Challenge/GermanAIChallenge2018/Round_2/R2_preda_double_optionB_Res50_epoch40_fold1_0130.csv\",header=None)"
   ]
  },
  {
   "cell_type": "code",
   "execution_count": 3,
   "metadata": {
    "collapsed": false
   },
   "outputs": [
    {
     "data": {
      "text/plain": [
       "array([0, 1, 2, 3])"
      ]
     },
     "execution_count": 3,
     "metadata": {},
     "output_type": "execute_result"
    }
   ],
   "source": [
    "np.unique(LargeClass_trn)"
   ]
  },
  {
   "cell_type": "code",
   "execution_count": 5,
   "metadata": {
    "collapsed": true
   },
   "outputs": [],
   "source": [
    "import matplotlib.pyplot as plt\n",
    "%matplotlib inline"
   ]
  },
  {
   "cell_type": "code",
   "execution_count": 42,
   "metadata": {
    "collapsed": false
   },
   "outputs": [],
   "source": [
    "b=np.argmax(np.array(single_fold1),axis=1)\n",
    "b_large=b.copy()\n",
    "b_large[b<10]=0\n",
    "b_large[(b>=10)&(b<14)]=1\n",
    "b_large[(b>=14)&(b<16)]=2\n",
    "b_large[b==16]=3"
   ]
  },
  {
   "cell_type": "code",
   "execution_count": 116,
   "metadata": {
    "collapsed": true
   },
   "outputs": [],
   "source": [
    "d=np.argmax(np.array(double_fold1),axis=1)\n",
    "d_large=d.copy()\n",
    "d_large[d<10]=0\n",
    "d_large[(d>=10)&(d<14)]=1\n",
    "d_large[(d>=14)&(d<16)]=2\n",
    "d_large[d==16]=3"
   ]
  },
  {
   "cell_type": "code",
   "execution_count": 117,
   "metadata": {
    "collapsed": false
   },
   "outputs": [
    {
     "data": {
      "text/plain": [
       "Text(0.5, 1.0, 'single_fold1')"
      ]
     },
     "execution_count": 117,
     "metadata": {},
     "output_type": "execute_result"
    },
    {
     "data": {
      "image/png": "[encoded data removed]",
      "text/plain": [
       "<Figure size 1080x288 with 3 Axes>"
      ]
     },
     "metadata": {
      "needs_background": "light"
     },
     "output_type": "display_data"
    }
   ],
   "source": [
    "plt.figure(1,figsize=(15,4))\n",
    "plt.subplot(1,3,1)\n",
    "plt.bar(list(range(4)),np.bincount(d_large),width= 0.5, color = \"cornflowerblue\")\n",
    "plt.title('double_fold1')\n",
    "plt.subplot(1,3,2)\n",
    "plt.bar(list(range(4)),np.bincount(LargeClass_tes),width= 0.5, color = \"cornflowerblue\")\n",
    "plt.title('LargeClass_tes')\n",
    "plt.subplot(1,3,3)\n",
    "plt.bar(list(range(4)),np.bincount(b_large),width= 0.5, color = \"cornflowerblue\")\n",
    "plt.title('single_fold1')"
   ]
  },
  {
   "cell_type": "code",
   "execution_count": 118,
   "metadata": {
    "collapsed": false
   },
   "outputs": [
    {
     "data": {
      "text/plain": [
       "array([2874, 1290,  165,  513])"
      ]
     },
     "execution_count": 118,
     "metadata": {},
     "output_type": "execute_result"
    }
   ],
   "source": [
    "np.bincount(d_large)"
   ]
  },
  {
   "cell_type": "code",
   "execution_count": 20,
   "metadata": {
    "collapsed": false
   },
   "outputs": [
    {
     "data": {
      "text/plain": [
       "array([3005, 1185,  146,  506])"
      ]
     },
     "execution_count": 20,
     "metadata": {},
     "output_type": "execute_result"
    }
   ],
   "source": [
    "np.bincount(LargeClass_tes)"
   ]
  },
  {
   "cell_type": "code",
   "execution_count": 45,
   "metadata": {
    "collapsed": false
   },
   "outputs": [
    {
     "data": {
      "text/plain": [
       "array([2884, 1272,  179,  507])"
      ]
     },
     "execution_count": 45,
     "metadata": {},
     "output_type": "execute_result"
    }
   ],
   "source": [
    "np.bincount(b_large)"
   ]
  },
  {
   "cell_type": "markdown",
   "metadata": {},
   "source": [
    "Difference of LargeClass"
   ]
  },
  {
   "cell_type": "code",
   "execution_count": 46,
   "metadata": {
    "collapsed": false
   },
   "outputs": [
    {
     "data": {
      "text/plain": [
       "212"
      ]
     },
     "execution_count": 46,
     "metadata": {},
     "output_type": "execute_result"
    }
   ],
   "source": [
    "np.sum(LargeClass_tes!=b_large)"
   ]
  },
  {
   "cell_type": "code",
   "execution_count": 119,
   "metadata": {
    "collapsed": false
   },
   "outputs": [
    {
     "data": {
      "text/plain": [
       "239"
      ]
     },
     "execution_count": 119,
     "metadata": {},
     "output_type": "execute_result"
    }
   ],
   "source": [
    "np.sum(LargeClass_tes!=d_large)"
   ]
  },
  {
   "cell_type": "code",
   "execution_count": 120,
   "metadata": {
    "collapsed": false
   },
   "outputs": [
    {
     "data": {
      "text/plain": [
       "203"
      ]
     },
     "execution_count": 120,
     "metadata": {},
     "output_type": "execute_result"
    }
   ],
   "source": [
    "np.sum(b_large!=d_large)"
   ]
  },
  {
   "cell_type": "code",
   "execution_count": 47,
   "metadata": {
    "collapsed": false
   },
   "outputs": [
    {
     "data": {
      "text/plain": [
       "4.378356051218505"
      ]
     },
     "execution_count": 47,
     "metadata": {},
     "output_type": "execute_result"
    }
   ],
   "source": [
    "212/4842*100"
   ]
  },
  {
   "cell_type": "markdown",
   "metadata": {},
   "source": [
    "## Small Class"
   ]
  },
  {
   "cell_type": "code",
   "execution_count": 49,
   "metadata": {
    "collapsed": true
   },
   "outputs": [],
   "source": [
    "LS=pd.read_csv(\"/home/sigma_wd/TIANCHI/Round_2/Building_scheme1/R2_preda_LSClass_single_optionB_Res50_0206.csv\",header=None)"
   ]
  },
  {
   "cell_type": "code",
   "execution_count": 50,
   "metadata": {
    "collapsed": true
   },
   "outputs": [],
   "source": [
    "LS=np.argmax(np.array(LS),axis=1)"
   ]
  },
  {
   "cell_type": "code",
   "execution_count": 124,
   "metadata": {
    "collapsed": false
   },
   "outputs": [
    {
     "data": {
      "text/plain": [
       "<matplotlib.legend.Legend at 0x7f77e7da5160>"
      ]
     },
     "execution_count": 124,
     "metadata": {},
     "output_type": "execute_result"
    },
    {
     "data": {
      "image/png": "[encoded data removed]",
      "text/plain": [
       "<Figure size 1080x576 with 1 Axes>"
      ]
     },
     "metadata": {
      "needs_background": "light"
     },
     "output_type": "display_data"
    }
   ],
   "source": [
    "plt.figure(2,figsize=(15,8))\n",
    "width=0.2\n",
    "plt.bar(list(range(17)),np.bincount(LS),width= 0.2, color = \"red\",align='edge',label='LS')\n",
    "plt.bar(np.array(list(range(17)))+width,np.bincount(b),width= 0.2, color = \"green\",align='edge',label='single_fold1')\n",
    "plt.bar(np.array(list(range(17)))+width+width,np.bincount(d),width= 0.2, color = \"cornflowerblue\",align='edge',label='double_fold1')\n",
    "plt.legend()"
   ]
  },
  {
   "cell_type": "code",
   "execution_count": 72,
   "metadata": {
    "collapsed": false
   },
   "outputs": [
    {
     "data": {
      "text/plain": [
       "1010"
      ]
     },
     "execution_count": 72,
     "metadata": {},
     "output_type": "execute_result"
    }
   ],
   "source": [
    "np.sum(LS!=b)"
   ]
  },
  {
   "cell_type": "code",
   "execution_count": 125,
   "metadata": {
    "collapsed": false
   },
   "outputs": [
    {
     "data": {
      "text/plain": [
       "971"
      ]
     },
     "execution_count": 125,
     "metadata": {},
     "output_type": "execute_result"
    }
   ],
   "source": [
    "np.sum(LS!=d)"
   ]
  },
  {
   "cell_type": "code",
   "execution_count": 126,
   "metadata": {
    "collapsed": false
   },
   "outputs": [
    {
     "data": {
      "text/plain": [
       "955"
      ]
     },
     "execution_count": 126,
     "metadata": {},
     "output_type": "execute_result"
    }
   ],
   "source": [
    "np.sum(b!=d)"
   ]
  },
  {
   "cell_type": "code",
   "execution_count": 78,
   "metadata": {
    "collapsed": false
   },
   "outputs": [
    {
     "data": {
      "text/plain": [
       "array([  4,  86,  58, -70,  17,  16, -15, -75,  12,  88,   4,   0, -50,\n",
       "       -41, -12, -21,  -1])"
      ]
     },
     "execution_count": 78,
     "metadata": {},
     "output_type": "execute_result"
    }
   ],
   "source": [
    "np.bincount(LS)-np.bincount(b)"
   ]
  },
  {
   "cell_type": "code",
   "execution_count": 127,
   "metadata": {
    "collapsed": false
   },
   "outputs": [
    {
     "data": {
      "text/plain": [
       "array([  2,  -1, -47,  51,  -4,  91,  33, -22, -55,  83,   7, -20, -27,\n",
       "       -65, -13,  -6,  -7])"
      ]
     },
     "execution_count": 127,
     "metadata": {},
     "output_type": "execute_result"
    }
   ],
   "source": [
    "np.bincount(LS)-np.bincount(d)"
   ]
  },
  {
   "cell_type": "code",
   "execution_count": 128,
   "metadata": {
    "collapsed": false
   },
   "outputs": [
    {
     "data": {
      "text/plain": [
       "array([  -2,  -87, -105,  121,  -21,   75,   48,   53,  -67,   -5,    3,\n",
       "        -20,   23,  -24,   -1,   15,   -6])"
      ]
     },
     "execution_count": 128,
     "metadata": {},
     "output_type": "execute_result"
    }
   ],
   "source": [
    "np.bincount(b)-np.bincount(d)"
   ]
  },
  {
   "cell_type": "code",
   "execution_count": 73,
   "metadata": {
    "collapsed": false
   },
   "outputs": [
    {
     "data": {
      "text/plain": [
       "0.7914085088806279"
      ]
     },
     "execution_count": 73,
     "metadata": {},
     "output_type": "execute_result"
    }
   ],
   "source": [
    "(4842-1010)/4842"
   ]
  },
  {
   "cell_type": "code",
   "execution_count": 186,
   "metadata": {
    "collapsed": false
   },
   "outputs": [],
   "source": [
    "diff_LS=[]\n",
    "diff_b=[]\n",
    "diff_d=[]\n",
    "for i in range(LS.shape[0]):\n",
    "    if LS[i]!=b[i] or d[i]!=b[i] or LS[i]!=d[i]:\n",
    "        diff_LS.append(LS[i])\n",
    "        diff_b.append(b[i])\n",
    "        diff_d.append(d[i])"
   ]
  },
  {
   "cell_type": "code",
   "execution_count": 162,
   "metadata": {
    "collapsed": false
   },
   "outputs": [
    {
     "data": {
      "text/plain": [
       "1367"
      ]
     },
     "execution_count": 162,
     "metadata": {},
     "output_type": "execute_result"
    }
   ],
   "source": [
    "len(diff_LS)"
   ]
  },
  {
   "cell_type": "code",
   "execution_count": 187,
   "metadata": {
    "collapsed": true
   },
   "outputs": [],
   "source": [
    "diff_LS=np.array(diff_LS+[16])\n",
    "diff_b=np.array(diff_b+[16])\n",
    "diff_d=np.array(diff_d+[16])"
   ]
  },
  {
   "cell_type": "code",
   "execution_count": 188,
   "metadata": {
    "collapsed": false
   },
   "outputs": [
    {
     "data": {
      "text/plain": [
       "array([ 0,  1,  2,  3,  4,  5,  6,  7,  8,  9, 10, 11, 12, 13, 14, 15, 16])"
      ]
     },
     "execution_count": 188,
     "metadata": {},
     "output_type": "execute_result"
    }
   ],
   "source": [
    "np.unique(diff_LS)"
   ]
  },
  {
   "cell_type": "code",
   "execution_count": 189,
   "metadata": {
    "collapsed": false
   },
   "outputs": [
    {
     "data": {
      "text/plain": [
       "array([ 0,  1,  2,  3,  4,  5,  6,  7,  8,  9, 10, 11, 12, 13, 14, 15, 16])"
      ]
     },
     "execution_count": 189,
     "metadata": {},
     "output_type": "execute_result"
    }
   ],
   "source": [
    "np.unique(diff_b)"
   ]
  },
  {
   "cell_type": "code",
   "execution_count": 190,
   "metadata": {
    "collapsed": false
   },
   "outputs": [
    {
     "data": {
      "text/plain": [
       "array([ 0,  1,  2,  3,  4,  5,  6,  7,  8,  9, 10, 11, 12, 13, 14, 15, 16])"
      ]
     },
     "execution_count": 190,
     "metadata": {},
     "output_type": "execute_result"
    }
   ],
   "source": [
    "np.unique(diff_d)"
   ]
  },
  {
   "cell_type": "code",
   "execution_count": 191,
   "metadata": {
    "collapsed": true
   },
   "outputs": [],
   "source": [
    "diff_LS_large=diff_LS.copy()\n",
    "diff_b_large=diff_b.copy()\n",
    "diff_d_large=diff_d.copy()"
   ]
  },
  {
   "cell_type": "code",
   "execution_count": 192,
   "metadata": {
    "collapsed": false
   },
   "outputs": [],
   "source": [
    "diff_LS_large[diff_LS<10]=0\n",
    "diff_LS_large[(diff_LS>=10)&(diff_LS<14)]=1\n",
    "diff_LS_large[(diff_LS>=14)&(diff_LS<16)]=2\n",
    "diff_LS_large[diff_LS==16]=3\n",
    "\n",
    "diff_b_large[diff_b<10]=0\n",
    "diff_b_large[(diff_b>=10)&(diff_b<14)]=1\n",
    "diff_b_large[(diff_b>=14)&(diff_b<16)]=2\n",
    "diff_b_large[diff_b==16]=3\n",
    "\n",
    "diff_d_large[diff_d<10]=0\n",
    "diff_d_large[(diff_d>=10)&(diff_d<14)]=1\n",
    "diff_d_large[(diff_d>=14)&(diff_d<16)]=2\n",
    "diff_d_large[diff_d==16]=3"
   ]
  },
  {
   "cell_type": "code",
   "execution_count": 193,
   "metadata": {
    "collapsed": false
   },
   "outputs": [],
   "source": [
    "diff_LS_large=np.array(list(diff_LS_large)+[3])\n",
    "diff_b_large=np.array(list(diff_b_large)+[3])\n",
    "diff_d_large=np.array(list(diff_d_large)+[3])"
   ]
  },
  {
   "cell_type": "code",
   "execution_count": 194,
   "metadata": {
    "collapsed": false
   },
   "outputs": [
    {
     "data": {
      "text/plain": [
       "<matplotlib.legend.Legend at 0x7f77e7c7d550>"
      ]
     },
     "execution_count": 194,
     "metadata": {},
     "output_type": "execute_result"
    },
    {
     "data": {
      "image/png": "[encoded data removed]",
      "text/plain": [
       "<Figure size 720x432 with 1 Axes>"
      ]
     },
     "metadata": {
      "needs_background": "light"
     },
     "output_type": "display_data"
    }
   ],
   "source": [
    "plt.figure(3,figsize=(10,6))\n",
    "width=0.2\n",
    "plt.bar(list(range(4)),np.bincount(diff_LS_large),width= 0.2, color = \"red\",align='edge',label='LS')\n",
    "plt.bar(np.array(list(range(4)))+width,np.bincount(diff_b_large),width= 0.2, color = \"green\",align='edge',label='single_fold1')\n",
    "plt.bar(np.array(list(range(4)))+width+width,np.bincount(diff_d_large),width= 0.2, color = \"cornflowerblue\",align='edge',label='double_fold1')\n",
    "plt.legend()"
   ]
  },
  {
   "cell_type": "code",
   "execution_count": 197,
   "metadata": {
    "collapsed": false
   },
   "outputs": [
    {
     "data": {
      "text/plain": [
       "<matplotlib.legend.Legend at 0x7f77e7b4b7f0>"
      ]
     },
     "execution_count": 197,
     "metadata": {},
     "output_type": "execute_result"
    },
    {
     "data": {
      "image/png": "[encoded data removed]",
      "text/plain": [
       "<Figure size 1080x432 with 1 Axes>"
      ]
     },
     "metadata": {
      "needs_background": "light"
     },
     "output_type": "display_data"
    }
   ],
   "source": [
    "plt.figure(3,figsize=(15,6))\n",
    "width=0.2\n",
    "plt.bar(list(range(17)),np.bincount(diff_LS),width= 0.2, color = \"red\",align='edge',label='LS')\n",
    "plt.bar(np.array(list(range(17)))+width,np.bincount(diff_b),width= 0.2, color = \"green\",align='edge',label='single_fold1')\n",
    "plt.bar(np.array(list(range(17)))+width+width,np.bincount(diff_d),width= 0.2, color = \"cornflowerblue\",align='edge',label='double_fold1')\n",
    "plt.legend()"
   ]
  },
  {
   "cell_type": "code",
   "execution_count": 171,
   "metadata": {
    "collapsed": false
   },
   "outputs": [
    {
     "data": {
      "text/plain": [
       "(1368,)"
      ]
     },
     "execution_count": 171,
     "metadata": {},
     "output_type": "execute_result"
    }
   ],
   "source": [
    "diff_LS_large.shape"
   ]
  },
  {
   "cell_type": "code",
   "execution_count": 172,
   "metadata": {
    "collapsed": false
   },
   "outputs": [
    {
     "data": {
      "text/plain": [
       "212"
      ]
     },
     "execution_count": 172,
     "metadata": {},
     "output_type": "execute_result"
    }
   ],
   "source": [
    "np.sum(diff_LS_large!=diff_b_large)"
   ]
  },
  {
   "cell_type": "code",
   "execution_count": 173,
   "metadata": {
    "collapsed": false
   },
   "outputs": [
    {
     "data": {
      "text/plain": [
       "203"
      ]
     },
     "execution_count": 173,
     "metadata": {},
     "output_type": "execute_result"
    }
   ],
   "source": [
    "np.sum((diff_d_large-diff_b_large)!=0)"
   ]
  },
  {
   "cell_type": "code",
   "execution_count": 174,
   "metadata": {
    "collapsed": false
   },
   "outputs": [
    {
     "data": {
      "text/plain": [
       "239"
      ]
     },
     "execution_count": 174,
     "metadata": {},
     "output_type": "execute_result"
    }
   ],
   "source": [
    "np.sum((diff_LS_large-diff_d_large)!=0)"
   ]
  },
  {
   "cell_type": "code",
   "execution_count": 175,
   "metadata": {
    "collapsed": false
   },
   "outputs": [],
   "source": [
    "A_diff=np.concatenate([diff_LS[:,np.newaxis],diff_b[:,np.newaxis],diff_d[:,np.newaxis]],axis=1)"
   ]
  },
  {
   "cell_type": "code",
   "execution_count": 182,
   "metadata": {
    "collapsed": false
   },
   "outputs": [
    {
     "data": {
      "text/plain": [
       "array([[ 2,  6,  2],\n",
       "       [ 4,  3,  4],\n",
       "       [15, 13, 13],\n",
       "       [ 3,  2,  2],\n",
       "       [ 9, 15, 15],\n",
       "       [ 9,  5, 13],\n",
       "       [ 1,  6,  1],\n",
       "       [ 7, 13, 13],\n",
       "       [ 9,  9,  7],\n",
       "       [ 9,  2,  2],\n",
       "       [ 2, 12, 12],\n",
       "       [ 8, 12,  8],\n",
       "       [ 5,  2,  2],\n",
       "       [ 6,  2,  2],\n",
       "       [ 5,  8,  8],\n",
       "       [ 2, 13, 12],\n",
       "       [ 1,  4,  4],\n",
       "       [ 7,  9,  4],\n",
       "       [ 2,  1,  1],\n",
       "       [ 1,  4,  3],\n",
       "       [ 9,  1,  1],\n",
       "       [ 2,  5,  2],\n",
       "       [ 9,  7,  9],\n",
       "       [ 9,  7,  7],\n",
       "       [ 5,  5,  2],\n",
       "       [ 7,  2,  2],\n",
       "       [ 8,  5,  8],\n",
       "       [ 1,  4,  4],\n",
       "       [ 9,  9,  7],\n",
       "       [11, 10, 10],\n",
       "       [ 9,  7,  9],\n",
       "       [ 8, 13, 13],\n",
       "       [10,  5, 10],\n",
       "       [ 9,  7,  7],\n",
       "       [ 3,  3, 13],\n",
       "       [ 9,  7,  9],\n",
       "       [ 1,  3,  4],\n",
       "       [ 2,  5,  2],\n",
       "       [ 5,  2,  5],\n",
       "       [ 2,  5,  7],\n",
       "       [ 4,  3,  4],\n",
       "       [10, 10,  8],\n",
       "       [ 5,  4,  5],\n",
       "       [10, 10, 13],\n",
       "       [15, 12, 12],\n",
       "       [ 1,  7,  1],\n",
       "       [10, 10, 12],\n",
       "       [ 2,  7,  7],\n",
       "       [12, 13, 11],\n",
       "       [10, 11,  8],\n",
       "       [ 2,  6,  2],\n",
       "       [12, 13, 12],\n",
       "       [ 8, 15, 16],\n",
       "       [12, 13, 13],\n",
       "       [ 8,  3,  4],\n",
       "       [10, 12, 10],\n",
       "       [ 5,  2,  2],\n",
       "       [ 2,  7,  2],\n",
       "       [12, 12, 11],\n",
       "       [ 2,  1,  2],\n",
       "       [ 2,  4,  2],\n",
       "       [ 8, 12, 12],\n",
       "       [15, 12, 15],\n",
       "       [ 9,  3, 13],\n",
       "       [12, 13, 13],\n",
       "       [ 3,  0,  0],\n",
       "       [ 7, 14, 15],\n",
       "       [ 8, 12, 12],\n",
       "       [ 7,  7,  9],\n",
       "       [ 1,  3,  1],\n",
       "       [ 7,  9,  7],\n",
       "       [ 9,  3,  0],\n",
       "       [ 9,  9, 13],\n",
       "       [13, 10, 10],\n",
       "       [ 2,  2,  5],\n",
       "       [ 4,  3,  5],\n",
       "       [ 5,  8,  8],\n",
       "       [ 5,  8,  8],\n",
       "       [ 1,  6,  1],\n",
       "       [ 6,  2,  2],\n",
       "       [ 4,  5,  4],\n",
       "       [ 9,  7,  7],\n",
       "       [12, 12, 15],\n",
       "       [ 1,  1,  2],\n",
       "       [ 4,  2,  1],\n",
       "       [12, 12, 15],\n",
       "       [13, 13, 12],\n",
       "       [ 1,  7,  3],\n",
       "       [ 3,  3,  4],\n",
       "       [ 9,  7,  7],\n",
       "       [ 9,  9,  7],\n",
       "       [ 0,  0,  2],\n",
       "       [ 7,  7,  2],\n",
       "       [ 1,  3,  1],\n",
       "       [ 1,  7,  7],\n",
       "       [ 9,  7,  7],\n",
       "       [ 5,  4,  5],\n",
       "       [11,  8, 10],\n",
       "       [13, 12, 12],\n",
       "       [13, 13,  8]])"
      ]
     },
     "execution_count": 182,
     "metadata": {},
     "output_type": "execute_result"
    }
   ],
   "source": [
    "A_diff[:100]"
   ]
  },
  {
   "cell_type": "code",
   "execution_count": 183,
   "metadata": {
    "collapsed": true
   },
   "outputs": [],
   "source": [
    "A_diff_large=np.concatenate([diff_LS_large[:,np.newaxis],diff_b_large[:,np.newaxis],diff_d_large[:,np.newaxis]],axis=1)"
   ]
  },
  {
   "cell_type": "code",
   "execution_count": 184,
   "metadata": {
    "collapsed": false
   },
   "outputs": [
    {
     "data": {
      "text/plain": [
       "array([[0, 0, 0],\n",
       "       [0, 0, 0],\n",
       "       [2, 1, 1],\n",
       "       [0, 0, 0],\n",
       "       [0, 2, 2],\n",
       "       [0, 0, 1],\n",
       "       [0, 0, 0],\n",
       "       [0, 1, 1],\n",
       "       [0, 0, 0],\n",
       "       [0, 0, 0],\n",
       "       [0, 1, 1],\n",
       "       [0, 1, 0],\n",
       "       [0, 0, 0],\n",
       "       [0, 0, 0],\n",
       "       [0, 0, 0],\n",
       "       [0, 1, 1],\n",
       "       [0, 0, 0],\n",
       "       [0, 0, 0],\n",
       "       [0, 0, 0],\n",
       "       [0, 0, 0],\n",
       "       [0, 0, 0],\n",
       "       [0, 0, 0],\n",
       "       [0, 0, 0],\n",
       "       [0, 0, 0],\n",
       "       [0, 0, 0],\n",
       "       [0, 0, 0],\n",
       "       [0, 0, 0],\n",
       "       [0, 0, 0],\n",
       "       [0, 0, 0],\n",
       "       [1, 1, 1],\n",
       "       [0, 0, 0],\n",
       "       [0, 1, 1],\n",
       "       [1, 0, 1],\n",
       "       [0, 0, 0],\n",
       "       [0, 0, 1],\n",
       "       [0, 0, 0],\n",
       "       [0, 0, 0],\n",
       "       [0, 0, 0],\n",
       "       [0, 0, 0],\n",
       "       [0, 0, 0],\n",
       "       [0, 0, 0],\n",
       "       [1, 1, 0],\n",
       "       [0, 0, 0],\n",
       "       [1, 1, 1],\n",
       "       [2, 1, 1],\n",
       "       [0, 0, 0],\n",
       "       [1, 1, 1],\n",
       "       [0, 0, 0],\n",
       "       [1, 1, 1],\n",
       "       [1, 1, 0],\n",
       "       [0, 0, 0],\n",
       "       [1, 1, 1],\n",
       "       [0, 2, 3],\n",
       "       [1, 1, 1],\n",
       "       [0, 0, 0],\n",
       "       [1, 1, 1],\n",
       "       [0, 0, 0],\n",
       "       [0, 0, 0],\n",
       "       [1, 1, 1],\n",
       "       [0, 0, 0],\n",
       "       [0, 0, 0],\n",
       "       [0, 1, 1],\n",
       "       [2, 1, 2],\n",
       "       [0, 0, 1],\n",
       "       [1, 1, 1],\n",
       "       [0, 0, 0],\n",
       "       [0, 2, 2],\n",
       "       [0, 1, 1],\n",
       "       [0, 0, 0],\n",
       "       [0, 0, 0],\n",
       "       [0, 0, 0],\n",
       "       [0, 0, 0],\n",
       "       [0, 0, 1],\n",
       "       [1, 1, 1],\n",
       "       [0, 0, 0],\n",
       "       [0, 0, 0],\n",
       "       [0, 0, 0],\n",
       "       [0, 0, 0],\n",
       "       [0, 0, 0],\n",
       "       [0, 0, 0],\n",
       "       [0, 0, 0],\n",
       "       [0, 0, 0],\n",
       "       [1, 1, 2],\n",
       "       [0, 0, 0],\n",
       "       [0, 0, 0],\n",
       "       [1, 1, 2],\n",
       "       [1, 1, 1],\n",
       "       [0, 0, 0],\n",
       "       [0, 0, 0],\n",
       "       [0, 0, 0],\n",
       "       [0, 0, 0],\n",
       "       [0, 0, 0],\n",
       "       [0, 0, 0],\n",
       "       [0, 0, 0],\n",
       "       [0, 0, 0],\n",
       "       [0, 0, 0],\n",
       "       [0, 0, 0],\n",
       "       [1, 0, 1],\n",
       "       [1, 1, 1],\n",
       "       [1, 1, 0]])"
      ]
     },
     "execution_count": 184,
     "metadata": {},
     "output_type": "execute_result"
    }
   ],
   "source": [
    "A_diff_large[:100]"
   ]
  },
  {
   "cell_type": "code",
   "execution_count": 185,
   "metadata": {
    "collapsed": false
   },
   "outputs": [
    {
     "data": {
      "text/plain": [
       "885"
      ]
     },
     "execution_count": 185,
     "metadata": {},
     "output_type": "execute_result"
    }
   ],
   "source": [
    "np.sum(np.sum(A_diff_large,axis=1)==0)"
   ]
  },
  {
   "cell_type": "code",
   "execution_count": 177,
   "metadata": {
    "collapsed": true
   },
   "outputs": [],
   "source": [
    "F=np.array([2,3,4,5,5,6,6,6,6,8,1,3,15,6,7])"
   ]
  },
  {
   "cell_type": "code",
   "execution_count": 181,
   "metadata": {
    "collapsed": false
   },
   "outputs": [
    {
     "data": {
      "text/plain": [
       "array([ 0,  5,  6,  7,  8,  9, 10, 12, 13, 14])"
      ]
     },
     "execution_count": 181,
     "metadata": {},
     "output_type": "execute_result"
    }
   ],
   "source": [
    "np.where((F>5) | (F<3))[0]"
   ]
  }
 ],
 "metadata": {
  "kernelspec": {
   "display_name": "Python (py4torch_tf)",
   "language": "python",
   "name": "pytorch"
  },
  "language_info": {
   "codemirror_mode": {
    "name": "ipython",
    "version": 3
   },
   "file_extension": ".py",
   "mimetype": "text/x-python",
   "name": "python",
   "nbconvert_exporter": "python",
   "pygments_lexer": "ipython3",
   "version": "3.5.6"
  },
  "toc": {
   "base_numbering": 1,
   "nav_menu": {},
   "number_sections": true,
   "sideBar": true,
   "skip_h1_title": false,
   "title_cell": "Table of Contents",
   "title_sidebar": "Contents",
   "toc_cell": false,
   "toc_position": {},
   "toc_section_display": true,
   "toc_window_display": false
  }
 },
 "nbformat": 4,
 "nbformat_minor": 2
}
